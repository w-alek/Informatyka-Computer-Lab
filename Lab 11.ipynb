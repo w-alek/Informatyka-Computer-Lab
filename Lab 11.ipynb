{
 "cells": [
  {
   "cell_type": "markdown",
   "id": "timely-sweden",
   "metadata": {},
   "source": [
    "![image_1.png](./img/egz_1.png)"
   ]
  },
  {
   "cell_type": "markdown",
   "id": "fallen-wrapping",
   "metadata": {},
   "source": [
    "Na początku spróbujmy się zastanowić jak przebiega rekurencja. Funkcja DAJ-MI-TO nazwijmy ją f na argumentach A, p i q czyli f(A, p, q) potrzebuje wartości f(A, p, q - 1). Z postaci kodu wynika jasno, że będziemy potrzebowali wartości f(A, p, p) i f(A, p, p + 1), możemy ją łatwo policzyć. <br>\n",
    "f(A, p, p) = A[p] <br>\n",
    "f(A, p, p + 1) = max(A[p], A[p+1]) <br>\n",
    "i tak dalej\n",
    "f(A, p, p + 2) = max(A[p + 2], f(A, p, p + 1)) = max(A[p + 2], max(A[p], A[p+1])) = max(A[p], A[p+1], A[p+2]) <br>\n",
    "... <br>\n",
    "f(A, p, q) = max(A[q], f(A, p, q - 1)) = max(A[p], ..., A[q])"
   ]
  },
  {
   "cell_type": "code",
   "execution_count": 1,
   "id": "conventional-brush",
   "metadata": {},
   "outputs": [],
   "source": [
    "def DAJ_MI_TO_ITER(A, p, q):\n",
    "    if p >= q:\n",
    "        return A[q]\n",
    "    max_ = max(A[p], A[p + 1])\n",
    "    for i in range(p, q + 1):\n",
    "        if A[i] > max_:\n",
    "            max_ = A[i]\n",
    "    return max_"
   ]
  },
  {
   "cell_type": "code",
   "execution_count": 2,
   "id": "consistent-purse",
   "metadata": {},
   "outputs": [
    {
     "name": "stdout",
     "output_type": "stream",
     "text": [
      "8\n"
     ]
    }
   ],
   "source": [
    "arr = [1, 7, 0, 4, 8, 2, 5, 3]\n",
    "print(DAJ_MI_TO_ITER(arr, 0, 7))"
   ]
  },
  {
   "cell_type": "markdown",
   "id": "jewish-wonder",
   "metadata": {},
   "source": [
    "![image_1.png](./img/egz_2.png)"
   ]
  },
  {
   "cell_type": "code",
   "execution_count": 3,
   "id": "functioning-currency",
   "metadata": {},
   "outputs": [],
   "source": [
    "def Bubble_Sort_Modified(arr):\n",
    "    n = len(arr)\n",
    "    for i in range(n):\n",
    "        for j in range(1, n-i-1):\n",
    "            if arr[j] > arr[j+1]:\n",
    "                temp = arr[j]\n",
    "                arr[j] = arr[j + 1]\n",
    "                arr[j + 1] = temp\n",
    "                # arr[j], arr[j+1] = arr[j+1], arr[j]"
   ]
  },
  {
   "cell_type": "code",
   "execution_count": 4,
   "id": "closing-garbage",
   "metadata": {},
   "outputs": [
    {
     "name": "stdout",
     "output_type": "stream",
     "text": [
      "[1, 0, 2, 3, 4, 5, 7, 8]\n"
     ]
    }
   ],
   "source": [
    "arr = [1, 7, 0, 4, 8, 2, 5, 3]\n",
    "Bubble_Sort_Modified(arr)\n",
    "print(arr)"
   ]
  },
  {
   "cell_type": "markdown",
   "id": "potential-pasta",
   "metadata": {},
   "source": [
    "![image_1.png](./img/egz_4.png)"
   ]
  },
  {
   "cell_type": "code",
   "execution_count": 5,
   "id": "sealed-commissioner",
   "metadata": {},
   "outputs": [
    {
     "name": "stdout",
     "output_type": "stream",
     "text": [
      "5\n",
      "TAK\n",
      "TAK\n",
      "TAK\n",
      "TAK\n",
      "TAK\n"
     ]
    }
   ],
   "source": [
    "i = 1\n",
    "n = int(input())\n",
    "while i <= n:\n",
    "    if i <= 1:\n",
    "        for j in range(i, n + 1):\n",
    "            print(\"TAK\")\n",
    "    i += 1"
   ]
  },
  {
   "cell_type": "markdown",
   "id": "forced-guide",
   "metadata": {},
   "source": [
    "![image_1.png](./img/egz_5.png)"
   ]
  },
  {
   "cell_type": "markdown",
   "id": "engaging-death",
   "metadata": {},
   "source": [
    "Grafy: pojęcia i twierdzenia z wykładu plus lemat o uściskach dłoni i chęć do rozwiązania zadania bywają bardzo pomocne i wystarczające do egzaminu."
   ]
  },
  {
   "cell_type": "code",
   "execution_count": null,
   "id": "young-arabic",
   "metadata": {},
   "outputs": [],
   "source": []
  }
 ],
 "metadata": {
  "kernelspec": {
   "display_name": "Python 3",
   "language": "python",
   "name": "python3"
  },
  "language_info": {
   "codemirror_mode": {
    "name": "ipython",
    "version": 3
   },
   "file_extension": ".py",
   "mimetype": "text/x-python",
   "name": "python",
   "nbconvert_exporter": "python",
   "pygments_lexer": "ipython3",
   "version": "3.8.5"
  }
 },
 "nbformat": 4,
 "nbformat_minor": 5
}
