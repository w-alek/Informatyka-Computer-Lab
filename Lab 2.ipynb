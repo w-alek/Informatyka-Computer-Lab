{
 "cells": [
  {
   "cell_type": "markdown",
   "id": "ethical-valuation",
   "metadata": {},
   "source": [
    "# Wprowadzenie do języka Python - kontynuacja"
   ]
  },
  {
   "cell_type": "markdown",
   "id": "pressing-stroke",
   "metadata": {},
   "source": [
    "## Więcej na temat list"
   ]
  },
  {
   "cell_type": "code",
   "execution_count": 1,
   "id": "average-battlefield",
   "metadata": {},
   "outputs": [
    {
     "name": "stdout",
     "output_type": "stream",
     "text": [
      "[['a', ['b', ['c', 'x']]], 42]\n"
     ]
    }
   ],
   "source": [
    "lista = [[\"a\", [\"b\", [\"c\", \"x\"]]], 42]\n",
    "print(lista)"
   ]
  },
  {
   "cell_type": "code",
   "execution_count": 2,
   "id": "least-nature",
   "metadata": {},
   "outputs": [
    {
     "name": "stdout",
     "output_type": "stream",
     "text": [
      "2\n"
     ]
    }
   ],
   "source": [
    "print(len(lista))"
   ]
  },
  {
   "cell_type": "code",
   "execution_count": 3,
   "id": "retained-excerpt",
   "metadata": {},
   "outputs": [
    {
     "name": "stdout",
     "output_type": "stream",
     "text": [
      "['b', ['c', 'x']]\n"
     ]
    }
   ],
   "source": [
    "print(lista[0][1])"
   ]
  },
  {
   "cell_type": "code",
   "execution_count": 4,
   "id": "handy-catalog",
   "metadata": {},
   "outputs": [
    {
     "name": "stdout",
     "output_type": "stream",
     "text": [
      "c\n"
     ]
    }
   ],
   "source": [
    "print(lista[0][1][1][0])"
   ]
  },
  {
   "cell_type": "code",
   "execution_count": 5,
   "id": "played-budget",
   "metadata": {},
   "outputs": [
    {
     "name": "stdout",
     "output_type": "stream",
     "text": [
      "Python\n",
      "Pytho\n",
      "n is great\n",
      "Python is \n"
     ]
    }
   ],
   "source": [
    "slogan = \"Python is great\"\n",
    "print(slogan[0:6])\n",
    "print(slogan[:5])\n",
    "print(slogan[5:])\n",
    "print(slogan[0:-5])\n",
    "# lista[a:b] lista[a] lista[a + 1] .. lista[b - 1]"
   ]
  },
  {
   "cell_type": "code",
   "execution_count": 6,
   "id": "regular-rachel",
   "metadata": {},
   "outputs": [
    {
     "name": "stdout",
     "output_type": "stream",
     "text": [
      "['Vienna', 'London', 'Paris']\n",
      "['Vienna', 'London', 'Paris', 'Berlin']\n",
      "['Vienna', 'London', 'Paris', 'Berlin']\n"
     ]
    }
   ],
   "source": [
    "cities = [\"Vienna\", \"London\", \"Paris\", \"Berlin\", \"Zurich\", \"Hamburg\"]\n",
    "print(cities[:3])\n",
    "print(cities[:-2])\n",
    "print(cities[:4])"
   ]
  },
  {
   "cell_type": "code",
   "execution_count": 7,
   "id": "parliamentary-alert",
   "metadata": {},
   "outputs": [
    {
     "name": "stdout",
     "output_type": "stream",
     "text": [
      "[1, 9, 2]\n",
      "[1, 9, 2, 3]\n",
      "[1, 9, 2, 3]\n"
     ]
    }
   ],
   "source": [
    "numbers = [1,9,2,3,5,2]\n",
    "print(numbers[:3])\n",
    "print(numbers[:-2])\n",
    "print(numbers[:4])"
   ]
  },
  {
   "cell_type": "code",
   "execution_count": 8,
   "id": "noted-constitution",
   "metadata": {},
   "outputs": [
    {
     "name": "stdout",
     "output_type": "stream",
     "text": [
      "Ph d n  e\n"
     ]
    }
   ],
   "source": [
    "slogan = \"Python under Linux is great\"\n",
    "print(slogan[::3])"
   ]
  },
  {
   "cell_type": "code",
   "execution_count": 9,
   "id": "closing-theater",
   "metadata": {},
   "outputs": [
    {
     "name": "stdout",
     "output_type": "stream",
     "text": [
      "TPoyrtohnotno  ciosu rtshees  lianr gTeosrto nCtiot yb yi nB oCdaennasdeao\n"
     ]
    }
   ],
   "source": [
    "s = \"TPoyrtohnotno  ciosu rtshees  lianr gTeosrto nCtiot yb yi nB oCdaennasdeao\"\n",
    "print(s)"
   ]
  },
  {
   "cell_type": "code",
   "execution_count": 10,
   "id": "protecting-frame",
   "metadata": {},
   "outputs": [
    {
     "name": "stdout",
     "output_type": "stream",
     "text": [
      "otnn\n"
     ]
    }
   ],
   "source": [
    "print(s[2:12:3])"
   ]
  },
  {
   "cell_type": "code",
   "execution_count": 11,
   "id": "undefined-young",
   "metadata": {},
   "outputs": [
    {
     "name": "stdout",
     "output_type": "stream",
     "text": [
      "Toronto is the largest City in Canada\n"
     ]
    }
   ],
   "source": [
    "print(s[::2])"
   ]
  },
  {
   "cell_type": "code",
   "execution_count": 12,
   "id": "elect-virus",
   "metadata": {},
   "outputs": [
    {
     "name": "stdout",
     "output_type": "stream",
     "text": [
      "Python courses in Toronto by Bodenseo\n"
     ]
    }
   ],
   "source": [
    "print(s[1::2])"
   ]
  },
  {
   "cell_type": "code",
   "execution_count": 13,
   "id": "optical-opposition",
   "metadata": {},
   "outputs": [
    {
     "name": "stdout",
     "output_type": "stream",
     "text": [
      "oaedsanneadCo Bn iy by toitCn otrsoeTg rnail  seehstr usoic  ontonhotryoPT\n"
     ]
    }
   ],
   "source": [
    "print(s[::-1])"
   ]
  },
  {
   "cell_type": "code",
   "execution_count": 14,
   "id": "major-somalia",
   "metadata": {},
   "outputs": [
    {
     "name": "stdout",
     "output_type": "stream",
     "text": [
      "[1, 12, 4, 6]\n",
      "[6, 4, 12, 1]\n"
     ]
    }
   ],
   "source": [
    "lista = [1,12,4,6]\n",
    "print(lista[::1])\n",
    "print(lista[::-1])\n",
    "# lista[a : b : c]\n",
    "# a - start\n",
    "# b - koniec\n",
    "# c - o ile się zmienia"
   ]
  },
  {
   "cell_type": "code",
   "execution_count": 15,
   "id": "favorite-halifax",
   "metadata": {},
   "outputs": [
    {
     "name": "stdout",
     "output_type": "stream",
     "text": [
      "True\n",
      "False\n",
      "False\n",
      "[[1, 9, 2, 3, 5, 2], 9, [9, 2, 3], [1, 9]]\n",
      "False\n",
      "True\n",
      "True\n"
     ]
    }
   ],
   "source": [
    "numbers = [1,9,2,3,5,2]\n",
    "print(1 in numbers)\n",
    "print(10 in numbers)\n",
    "print([1] in numbers)\n",
    "numbers_ = [numbers, numbers[1], numbers[1:4], numbers[:-4]]\n",
    "print(numbers_)\n",
    "print(1 in numbers_)\n",
    "print([1, 9] in numbers_)\n",
    "print(numbers in numbers_)"
   ]
  },
  {
   "cell_type": "markdown",
   "id": "generic-coaching",
   "metadata": {},
   "source": [
    "### +, += or append - why we should avoid + with list concatenation"
   ]
  },
  {
   "cell_type": "code",
   "execution_count": 16,
   "id": "better-steps",
   "metadata": {},
   "outputs": [
    {
     "name": "stdout",
     "output_type": "stream",
     "text": [
      "[20, 21]\n"
     ]
    }
   ],
   "source": [
    "L = [20, 21]\n",
    "print(L)"
   ]
  },
  {
   "cell_type": "code",
   "execution_count": 17,
   "id": "computational-tower",
   "metadata": {},
   "outputs": [
    {
     "name": "stdout",
     "output_type": "stream",
     "text": [
      "[20, 21, 2021]\n"
     ]
    }
   ],
   "source": [
    "L = L + [2021]\n",
    "print(L)"
   ]
  },
  {
   "cell_type": "code",
   "execution_count": 18,
   "id": "express-brain",
   "metadata": {},
   "outputs": [
    {
     "name": "stdout",
     "output_type": "stream",
     "text": [
      "[20, 21, 2021]\n"
     ]
    }
   ],
   "source": [
    "L = [20, 21]\n",
    "L += [2021]\n",
    "print(L)"
   ]
  },
  {
   "cell_type": "code",
   "execution_count": 19,
   "id": "satellite-mention",
   "metadata": {},
   "outputs": [
    {
     "name": "stdout",
     "output_type": "stream",
     "text": [
      "[20, 21, 2021]\n"
     ]
    }
   ],
   "source": [
    "L = [20, 21]\n",
    "L.append(2021)\n",
    "print(L)"
   ]
  },
  {
   "cell_type": "code",
   "execution_count": 20,
   "id": "parental-reggae",
   "metadata": {},
   "outputs": [],
   "source": [
    "import time\n",
    "n = 300000"
   ]
  },
  {
   "cell_type": "code",
   "execution_count": 21,
   "id": "sublime-curve",
   "metadata": {},
   "outputs": [
    {
     "name": "stdout",
     "output_type": "stream",
     "text": [
      "359.3003568649292\n"
     ]
    }
   ],
   "source": [
    "# using +\n",
    "start_time = time.time()\n",
    "l = []\n",
    "for i in range(n):\n",
    "    l = l + [i * 2] # +\n",
    "print(time.time() - start_time)"
   ]
  },
  {
   "cell_type": "code",
   "execution_count": 22,
   "id": "stuffed-agent",
   "metadata": {},
   "outputs": [
    {
     "name": "stdout",
     "output_type": "stream",
     "text": [
      "0.038196563720703125\n"
     ]
    }
   ],
   "source": [
    "# using +=\n",
    "start_time = time.time()\n",
    "l = []\n",
    "for i in range(n):\n",
    "    l += [i * 2] # +=\n",
    "print(time.time() - start_time)"
   ]
  },
  {
   "cell_type": "code",
   "execution_count": 23,
   "id": "south-specialist",
   "metadata": {},
   "outputs": [
    {
     "name": "stdout",
     "output_type": "stream",
     "text": [
      "0.0554354190826416\n"
     ]
    }
   ],
   "source": [
    "# using apend\n",
    "start_time = time.time()\n",
    "l = []\n",
    "for i in range(n):\n",
    "    l.append(i * 2) # append\n",
    "print(time.time() - start_time)"
   ]
  },
  {
   "cell_type": "markdown",
   "id": "convertible-lawyer",
   "metadata": {},
   "source": [
    "## Kopiowanie list, deep copy"
   ]
  },
  {
   "cell_type": "code",
   "execution_count": 24,
   "id": "innocent-bench",
   "metadata": {},
   "outputs": [
    {
     "name": "stdout",
     "output_type": "stream",
     "text": [
      "140230284254656 140230284254656\n"
     ]
    }
   ],
   "source": [
    "colours1 = [\"red\", \"blue\"]\n",
    "colours2 = colours1\n",
    "print(id(colours1), id(colours2))"
   ]
  },
  {
   "attachments": {},
   "cell_type": "markdown",
   "id": "swiss-matter",
   "metadata": {},
   "source": [
    "![image.png](./img/deep1.png)"
   ]
  },
  {
   "cell_type": "code",
   "execution_count": 25,
   "id": "reduced-lewis",
   "metadata": {},
   "outputs": [
    {
     "name": "stdout",
     "output_type": "stream",
     "text": [
      "['red', 'blue']\n",
      "green\n"
     ]
    }
   ],
   "source": [
    "colours2 = \"green\"\n",
    "print(colours1)\n",
    "print(colours2)"
   ]
  },
  {
   "cell_type": "code",
   "execution_count": 26,
   "id": "crude-marathon",
   "metadata": {},
   "outputs": [],
   "source": [
    "colours1 = [\"red\", \"blue\"]\n",
    "colours2 = colours1\n",
    "colours2[1] = \"green\""
   ]
  },
  {
   "cell_type": "code",
   "execution_count": 27,
   "id": "sunset-brand",
   "metadata": {},
   "outputs": [
    {
     "name": "stdout",
     "output_type": "stream",
     "text": [
      "['red', 'green']\n"
     ]
    }
   ],
   "source": [
    "print(colours2)"
   ]
  },
  {
   "cell_type": "code",
   "execution_count": 28,
   "id": "funky-routine",
   "metadata": {},
   "outputs": [
    {
     "name": "stdout",
     "output_type": "stream",
     "text": [
      "['red', 'green']\n"
     ]
    }
   ],
   "source": [
    "print(colours1)"
   ]
  },
  {
   "attachments": {},
   "cell_type": "markdown",
   "id": "liquid-vienna",
   "metadata": {},
   "source": [
    "![image.png](./img/deep2.png)"
   ]
  },
  {
   "cell_type": "code",
   "execution_count": 29,
   "id": "rubber-permit",
   "metadata": {},
   "outputs": [],
   "source": [
    "firstnames = ['Kevin', 'Jamina', 'Lars', 'Maria']"
   ]
  },
  {
   "attachments": {},
   "cell_type": "markdown",
   "id": "environmental-canal",
   "metadata": {},
   "source": [
    "![image.png](./img/deep3.png)"
   ]
  },
  {
   "cell_type": "code",
   "execution_count": 30,
   "id": "capable-notebook",
   "metadata": {},
   "outputs": [],
   "source": [
    "firstnames_copy = firstnames.copy() # [:] Shallow copy\n",
    "firstnames_copy[-1] = 'Konrad'"
   ]
  },
  {
   "cell_type": "code",
   "execution_count": 31,
   "id": "molecular-badge",
   "metadata": {},
   "outputs": [
    {
     "name": "stdout",
     "output_type": "stream",
     "text": [
      "['Kevin', 'Jamina', 'Lars', 'Konrad']\n"
     ]
    }
   ],
   "source": [
    "print(firstnames_copy)"
   ]
  },
  {
   "cell_type": "code",
   "execution_count": 32,
   "id": "awful-equation",
   "metadata": {},
   "outputs": [
    {
     "name": "stdout",
     "output_type": "stream",
     "text": [
      "['Kevin', 'Jamina', 'Lars', 'Maria']\n"
     ]
    }
   ],
   "source": [
    "print(firstnames)"
   ]
  },
  {
   "cell_type": "code",
   "execution_count": 33,
   "id": "severe-miniature",
   "metadata": {},
   "outputs": [],
   "source": [
    "whatever = [\"Kevin\", \"Pythonista\", 7.8, [3.54, \"rkm\"]]"
   ]
  },
  {
   "attachments": {},
   "cell_type": "markdown",
   "id": "boring-liverpool",
   "metadata": {},
   "source": [
    "![image.png](./img/deep4.png)"
   ]
  },
  {
   "cell_type": "code",
   "execution_count": 34,
   "id": "spatial-armstrong",
   "metadata": {},
   "outputs": [],
   "source": [
    "whatever_copy = whatever.copy() # shallow copy\n",
    "whatever_copy[0] = 'Konrad'"
   ]
  },
  {
   "cell_type": "code",
   "execution_count": 35,
   "id": "extreme-tanzania",
   "metadata": {},
   "outputs": [
    {
     "name": "stdout",
     "output_type": "stream",
     "text": [
      "['Konrad', 'Pythonista', 7.8, [3.54, 'rkm']]\n"
     ]
    }
   ],
   "source": [
    "print(whatever_copy)"
   ]
  },
  {
   "cell_type": "code",
   "execution_count": 36,
   "id": "global-breath",
   "metadata": {},
   "outputs": [
    {
     "name": "stdout",
     "output_type": "stream",
     "text": [
      "['Kevin', 'Pythonista', 7.8, [3.54, 'rkm']]\n"
     ]
    }
   ],
   "source": [
    "print(whatever)"
   ]
  },
  {
   "cell_type": "code",
   "execution_count": 37,
   "id": "august-mercy",
   "metadata": {},
   "outputs": [],
   "source": [
    "whatever_copy[-1][-1] = 'aaa'"
   ]
  },
  {
   "cell_type": "code",
   "execution_count": 38,
   "id": "absent-month",
   "metadata": {},
   "outputs": [
    {
     "name": "stdout",
     "output_type": "stream",
     "text": [
      "['Konrad', 'Pythonista', 7.8, [3.54, 'aaa']]\n"
     ]
    }
   ],
   "source": [
    "print(whatever_copy)"
   ]
  },
  {
   "cell_type": "code",
   "execution_count": 39,
   "id": "distant-adult",
   "metadata": {},
   "outputs": [
    {
     "name": "stdout",
     "output_type": "stream",
     "text": [
      "['Kevin', 'Pythonista', 7.8, [3.54, 'aaa']]\n"
     ]
    }
   ],
   "source": [
    "print(whatever)"
   ]
  },
  {
   "cell_type": "code",
   "execution_count": 40,
   "id": "legendary-rabbit",
   "metadata": {},
   "outputs": [
    {
     "name": "stdout",
     "output_type": "stream",
     "text": [
      "140230156785344 140230156760896\n"
     ]
    }
   ],
   "source": [
    "print(id(whatever_copy), id(whatever))"
   ]
  },
  {
   "cell_type": "code",
   "execution_count": 41,
   "id": "southeast-fourth",
   "metadata": {},
   "outputs": [
    {
     "name": "stdout",
     "output_type": "stream",
     "text": [
      "140230156760640 140230156760640\n"
     ]
    }
   ],
   "source": [
    "print(id(whatever_copy[-1]), id(whatever[-1]))"
   ]
  },
  {
   "cell_type": "code",
   "execution_count": 42,
   "id": "proper-bedroom",
   "metadata": {},
   "outputs": [],
   "source": [
    "person1 = [\"Swen\", [\"Seestraße\", \"Konstanz\"]]"
   ]
  },
  {
   "attachments": {},
   "cell_type": "markdown",
   "id": "statutory-portuguese",
   "metadata": {},
   "source": [
    "![image.png](./img/deep5.png)"
   ]
  },
  {
   "cell_type": "code",
   "execution_count": 43,
   "id": "african-liver",
   "metadata": {},
   "outputs": [
    {
     "name": "stdout",
     "output_type": "stream",
     "text": [
      "['Sarah', ['Seestraße', 'Konstanz']]\n"
     ]
    }
   ],
   "source": [
    "person2 = person1.copy() #shallow copy\n",
    "person2[0] = \"Sarah\"\n",
    "print(person2)"
   ]
  },
  {
   "attachments": {},
   "cell_type": "markdown",
   "id": "circular-bulgarian",
   "metadata": {},
   "source": [
    "![image.png](./img/deep6.png)"
   ]
  },
  {
   "cell_type": "code",
   "execution_count": 44,
   "id": "relevant-numbers",
   "metadata": {},
   "outputs": [],
   "source": [
    "person2[1][0] = \"Bücklestraße\""
   ]
  },
  {
   "cell_type": "code",
   "execution_count": 45,
   "id": "fancy-tucson",
   "metadata": {},
   "outputs": [
    {
     "name": "stdout",
     "output_type": "stream",
     "text": [
      "['Sarah', ['Bücklestraße', 'Konstanz']]\n"
     ]
    }
   ],
   "source": [
    "print(person2)"
   ]
  },
  {
   "cell_type": "code",
   "execution_count": 46,
   "id": "approximate-cameroon",
   "metadata": {},
   "outputs": [
    {
     "name": "stdout",
     "output_type": "stream",
     "text": [
      "['Swen', ['Bücklestraße', 'Konstanz']]\n"
     ]
    }
   ],
   "source": [
    "print(person1)"
   ]
  },
  {
   "attachments": {},
   "cell_type": "markdown",
   "id": "whole-conservation",
   "metadata": {},
   "source": [
    "![image.png](./img/deep7.png)"
   ]
  },
  {
   "cell_type": "code",
   "execution_count": 47,
   "id": "noble-resistance",
   "metadata": {},
   "outputs": [],
   "source": [
    "from copy import deepcopy\n",
    "person1 = [\"Swen\", [\"Seestrasse\", \"Konstanz\"]]\n",
    "person2 = deepcopy(person1)"
   ]
  },
  {
   "attachments": {},
   "cell_type": "markdown",
   "id": "small-function",
   "metadata": {},
   "source": [
    "![image.png](./img/deep8.png)"
   ]
  },
  {
   "cell_type": "code",
   "execution_count": 48,
   "id": "adjustable-central",
   "metadata": {},
   "outputs": [],
   "source": [
    "person2[0] = \"Sarah\"\n",
    "person2[1][0] = \"Bücklestrasse\""
   ]
  },
  {
   "cell_type": "code",
   "execution_count": 49,
   "id": "fuzzy-weekly",
   "metadata": {},
   "outputs": [
    {
     "name": "stdout",
     "output_type": "stream",
     "text": [
      "['Sarah', ['Bücklestrasse', 'Konstanz']]\n"
     ]
    }
   ],
   "source": [
    "print(person2)"
   ]
  },
  {
   "cell_type": "code",
   "execution_count": 50,
   "id": "architectural-powder",
   "metadata": {},
   "outputs": [
    {
     "name": "stdout",
     "output_type": "stream",
     "text": [
      "['Swen', ['Seestrasse', 'Konstanz']]\n"
     ]
    }
   ],
   "source": [
    "print(person1)"
   ]
  },
  {
   "attachments": {},
   "cell_type": "markdown",
   "id": "reliable-lebanon",
   "metadata": {},
   "source": [
    "![image.png](./img/deep9.png)"
   ]
  },
  {
   "cell_type": "code",
   "execution_count": 51,
   "id": "sweet-thanks",
   "metadata": {},
   "outputs": [
    {
     "name": "stdout",
     "output_type": "stream",
     "text": [
      "140230283744768 140230284234112\n"
     ]
    }
   ],
   "source": [
    "print(id(person1[1]), id(person2[1]))"
   ]
  },
  {
   "cell_type": "code",
   "execution_count": 52,
   "id": "weekly-modification",
   "metadata": {},
   "outputs": [
    {
     "name": "stdout",
     "output_type": "stream",
     "text": [
      "140230284263808 140230284234432\n"
     ]
    }
   ],
   "source": [
    "print(id(person1), id(person2))"
   ]
  },
  {
   "cell_type": "markdown",
   "id": "capable-approach",
   "metadata": {},
   "source": [
    "## while, for, funkcje - kontynuacja"
   ]
  },
  {
   "cell_type": "code",
   "execution_count": 53,
   "id": "shaped-archive",
   "metadata": {},
   "outputs": [
    {
     "name": "stdout",
     "output_type": "stream",
     "text": [
      "Zgadnij liczbę naturalną z zakresu [a, b].\n",
      "Dolne ograniczenie, a = 1 górne ograniczenie, b = 30\n",
      "Nowa Liczba: 10\n",
      "Za mało\n",
      "Nowa Liczba: 11\n",
      "Za mało\n",
      "Nowa Liczba: 5\n",
      "Podałeś liczbę niezgodną z twoim poprzednim wyborem!\n",
      "Nowa Liczba: 11\n",
      "Podałeś liczbę niezgodną z twoim poprzednim wyborem!\n",
      "Nowa Liczba: 19\n",
      "Za mało\n",
      "Nowa Liczba: 28\n",
      "Za dużo\n",
      "Nowa Liczba: 24\n",
      "Zgadłeś\n"
     ]
    }
   ],
   "source": [
    "import random\n",
    "print(\"Zgadnij liczbę naturalną z zakresu [a, b].\")\n",
    "upper_bound = 30\n",
    "lower_bound = 1\n",
    "print(\"Dolne ograniczenie, a =\", lower_bound, \"górne ograniczenie, b =\", upper_bound)\n",
    "adaptive_upper_bound = upper_bound\n",
    "adaptive_lower_bound = lower_bound\n",
    "to_be_guessed = random.randint(lower_bound, upper_bound)\n",
    "guess = 0\n",
    "while guess != to_be_guessed:\n",
    "    guess = int(input(\"Nowa Liczba: \"))\n",
    "    if guess < lower_bound or guess > upper_bound:\n",
    "        print(\"Poza ogarniczeniami!\")\n",
    "    elif guess < adaptive_lower_bound or guess > adaptive_upper_bound:\n",
    "        print(\"Podałeś liczbę niezgodną z twoim poprzednim wyborem!\")\n",
    "    elif guess > to_be_guessed:\n",
    "        adaptive_upper_bound = guess - 1\n",
    "        print(\"Za dużo\")\n",
    "    elif guess < to_be_guessed:\n",
    "        adaptive_lower_bound = guess + 1\n",
    "        print(\"Za mało\")   \n",
    "else:\n",
    "    print(\"Zgadłeś\")"
   ]
  },
  {
   "cell_type": "code",
   "execution_count": 54,
   "id": "contained-hamburg",
   "metadata": {},
   "outputs": [
    {
     "name": "stdout",
     "output_type": "stream",
     "text": [
      "['red', 'black', 'white']\n"
     ]
    }
   ],
   "source": [
    "colours = [\"red\"]\n",
    "for i in colours:\n",
    "    if i == \"black\":\n",
    "        colours += [\"white\"]\n",
    "    if i == \"red\":\n",
    "        colours += [\"black\"]\n",
    "        # colours = [\"red\", \"black\"]\n",
    "    # colours = [\"red\", \"black, \"white]\n",
    "print(colours)"
   ]
  },
  {
   "cell_type": "code",
   "execution_count": 55,
   "id": "angry-confidentiality",
   "metadata": {},
   "outputs": [
    {
     "name": "stdout",
     "output_type": "stream",
     "text": [
      "['red']\n",
      "['red', 'black', 'white']\n"
     ]
    }
   ],
   "source": [
    "colours = [\"red\"]\n",
    "colours_ = colours[:] #colours.copy()\n",
    "for i in colours_:\n",
    "    if i == \"red\":\n",
    "        colours_ += [\"black\"]\n",
    "    if i == \"black\":\n",
    "        colours_ += [\"white\"]\n",
    "print(colours)\n",
    "print(colours_)"
   ]
  },
  {
   "cell_type": "code",
   "execution_count": 56,
   "id": "superb-terminology",
   "metadata": {},
   "outputs": [],
   "source": [
    "def simple_game(a:'dolne ogarniczenie', b:'górne ograniczenie')->int:\n",
    "    '''\n",
    "    Gra polega na podaniu przedziału a, b, gdzie a i b są naturalne, a < b oraz zgadnięciu wylosowanej liczby\n",
    "    z tego przedziału.\n",
    "    '''\n",
    "    if a <= 0 or b <= 0 or a >= b or a + 1 == b or not isinstance(a, int) or not isinstance(b, int):\n",
    "        print(\"Podałeś niepoprawny zakres\")\n",
    "        return None\n",
    "    upper_bound = b\n",
    "    lower_bound = a\n",
    "    print(\"Dolne ograniczenie, a =\", lower_bound, \"\\nGórne ograniczenie, b =\", upper_bound)\n",
    "    adaptive_upper_bound = upper_bound\n",
    "    adaptive_lower_bound = lower_bound\n",
    "    to_be_guessed = random.randint(lower_bound, upper_bound)\n",
    "    guess = 0\n",
    "    while guess != to_be_guessed:\n",
    "        guess = int(input(\"Nowa Liczba: \"))\n",
    "        if guess < lower_bound or guess > upper_bound:\n",
    "            print(\"Poza ogarniczeniami!\")\n",
    "        elif guess < adaptive_lower_bound or guess > adaptive_upper_bound:\n",
    "            print(\"Podałeś liczbę niezgodną z twoim poprzednim wyborem!\")\n",
    "        elif guess > to_be_guessed:\n",
    "            adaptive_upper_bound = guess - 1\n",
    "            print(\"Za dużo\")\n",
    "        elif guess < to_be_guessed:\n",
    "            adaptive_lower_bound = guess + 1\n",
    "            print(\"Za mało\")   \n",
    "    else:\n",
    "        print(\"Zgadłeś\")\n",
    "    return guess"
   ]
  },
  {
   "cell_type": "code",
   "execution_count": 57,
   "id": "touched-emerald",
   "metadata": {},
   "outputs": [
    {
     "name": "stdout",
     "output_type": "stream",
     "text": [
      "Dolne ograniczenie, a = 10 \n",
      "Górne ograniczenie, b = 30\n",
      "Nowa Liczba: 4\n",
      "Poza ogarniczeniami!\n",
      "Nowa Liczba: 11\n",
      "Za mało\n",
      "Nowa Liczba: 19\n",
      "Za mało\n",
      "Nowa Liczba: 31\n",
      "Poza ogarniczeniami!\n",
      "Nowa Liczba: 30\n",
      "Za dużo\n",
      "Nowa Liczba: 25\n",
      "Zgadłeś\n"
     ]
    }
   ],
   "source": [
    "x = simple_game(10, 30)"
   ]
  },
  {
   "cell_type": "code",
   "execution_count": 58,
   "id": "everyday-killing",
   "metadata": {},
   "outputs": [
    {
     "data": {
      "text/plain": [
       "25"
      ]
     },
     "execution_count": 58,
     "metadata": {},
     "output_type": "execute_result"
    }
   ],
   "source": [
    "x"
   ]
  },
  {
   "cell_type": "code",
   "execution_count": 59,
   "id": "timely-award",
   "metadata": {},
   "outputs": [],
   "source": [
    "from math import sqrt\n",
    "def check_prime_1(n):\n",
    "    for i in range(2, int(sqrt(n)) + 1):\n",
    "        if n % i == 0:\n",
    "            return 0\n",
    "    return 1"
   ]
  },
  {
   "cell_type": "code",
   "execution_count": 60,
   "id": "matched-apache",
   "metadata": {},
   "outputs": [
    {
     "name": "stdout",
     "output_type": "stream",
     "text": [
      "0\n",
      "1\n",
      "0\n"
     ]
    }
   ],
   "source": [
    "print(check_prime_1(12))\n",
    "print(check_prime_1(13))\n",
    "print(check_prime_1(49))"
   ]
  },
  {
   "cell_type": "code",
   "execution_count": 61,
   "id": "outer-norway",
   "metadata": {},
   "outputs": [],
   "source": [
    "def factorial(n):\n",
    "    result = 1\n",
    "    for i in range(1, n + 1):\n",
    "        result = result * i\n",
    "    return result"
   ]
  },
  {
   "cell_type": "code",
   "execution_count": 62,
   "id": "first-reception",
   "metadata": {},
   "outputs": [
    {
     "data": {
      "text/plain": [
       "120"
      ]
     },
     "execution_count": 62,
     "metadata": {},
     "output_type": "execute_result"
    }
   ],
   "source": [
    "factorial(5)"
   ]
  },
  {
   "cell_type": "code",
   "execution_count": 63,
   "id": "north-finland",
   "metadata": {},
   "outputs": [],
   "source": [
    "def factorial_rec(n):\n",
    "    if n > 1:\n",
    "        return factorial_rec(n - 1) * n\n",
    "    else:\n",
    "        return 1"
   ]
  },
  {
   "cell_type": "code",
   "execution_count": 64,
   "id": "acquired-verse",
   "metadata": {},
   "outputs": [
    {
     "data": {
      "text/plain": [
       "120"
      ]
     },
     "execution_count": 64,
     "metadata": {},
     "output_type": "execute_result"
    }
   ],
   "source": [
    "factorial_rec(5)\n",
    "# factorial_rec = f\n",
    "# f(5) -> f(4) * 5\n",
    "# f(4) -> f(3) * 4\n",
    "# f(3) -> f(2) * 3\n",
    "# f(2) -> f(1) * 2\n",
    "# f(1) = 1\n",
    "\n",
    "# f(2) -> 1 * 2\n",
    "# f(3) -> 2 * 3\n",
    "# f(4) -> 6 * 4\n",
    "# f(5) -> 24 * 5"
   ]
  },
  {
   "cell_type": "markdown",
   "id": "unusual-november",
   "metadata": {},
   "source": [
    "## Zadanie 1\n",
    "Napisz funkcję przyjmującą trzy parametry f(a, b, c), która wyświetla na ekranie ile rozwiązań posiada równanie kwadratowe\n",
    "$$ax^{2} + bx + c = 0$$\n",
    "W przypadku posiadania rozwiązań zwraca je."
   ]
  },
  {
   "cell_type": "markdown",
   "id": "spread-defensive",
   "metadata": {},
   "source": [
    "## Zadanie 2 (*)\n",
    "\n",
    "Spróbuj znaleźć optymalną strategię znajdywania optymalnej liczby z naszej gry - funkcja simple game, albo przynajmniej taką, która jest lepsza niż losowe zgadywanie."
   ]
  },
  {
   "cell_type": "markdown",
   "id": "liable-recorder",
   "metadata": {},
   "source": [
    "## Zadanie 3\n",
    "Wyjaśnij dlaczego dla niektórych danych algorytm euklidesa - wersja 2 z poprzednich ćwiczeń jest wolniejszy od oryginalnego podanego na wykładzie - wersja 1 z poprzednich ćwiczeń."
   ]
  },
  {
   "cell_type": "markdown",
   "id": "human-cheat",
   "metadata": {},
   "source": [
    "## Zadanie 4\n",
    "Znajdź błąd w poniższym kodzie oraz wyjaśnij dlaczego tak się dzieje"
   ]
  },
  {
   "cell_type": "code",
   "execution_count": 66,
   "id": "fuzzy-dayton",
   "metadata": {},
   "outputs": [
    {
     "name": "stdout",
     "output_type": "stream",
     "text": [
      "\n"
     ]
    }
   ],
   "source": [
    "odd = [bool(i % 2) for i in range(10)]\n",
    "numbers = [i for i in range(10)]\n",
    "for i in range(len(numbers)):\n",
    "    if odd[numbers[i]]:\n",
    "        numbers.pop(i)"
   ]
  },
  {
   "cell_type": "markdown",
   "id": "extensive-fighter",
   "metadata": {},
   "source": [
    "## Zadanie 5\n",
    "Napisz funkcję g(n), która przyjmuję za argument liczbę naturalną n oraz zwraca liczbę jej dzielników oraz ich sumę."
   ]
  }
 ],
 "metadata": {
  "kernelspec": {
   "display_name": "Python 3",
   "language": "python",
   "name": "python3"
  },
  "language_info": {
   "codemirror_mode": {
    "name": "ipython",
    "version": 3
   },
   "file_extension": ".py",
   "mimetype": "text/x-python",
   "name": "python",
   "nbconvert_exporter": "python",
   "pygments_lexer": "ipython3",
   "version": "3.8.5"
  }
 },
 "nbformat": 4,
 "nbformat_minor": 5
}
