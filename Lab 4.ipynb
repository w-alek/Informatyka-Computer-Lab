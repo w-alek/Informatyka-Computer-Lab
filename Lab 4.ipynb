{
 "cells": [
  {
   "cell_type": "code",
   "execution_count": 1,
   "id": "harmful-model",
   "metadata": {},
   "outputs": [],
   "source": [
    "def factorial(n):\n",
    "    if n == 0:\n",
    "        return 1\n",
    "    if n == 1:\n",
    "        return 1\n",
    "    else:\n",
    "        return n * factorial(n - 1)"
   ]
  },
  {
   "cell_type": "code",
   "execution_count": 2,
   "id": "single-ladder",
   "metadata": {},
   "outputs": [],
   "source": [
    "def binomial(n, k):\n",
    "    if n < k:\n",
    "        return 0\n",
    "    else:\n",
    "        return factorial(n)//(factorial(k) * factorial(n - k))"
   ]
  },
  {
   "cell_type": "code",
   "execution_count": 3,
   "id": "collaborative-liechtenstein",
   "metadata": {},
   "outputs": [
    {
     "data": {
      "text/plain": [
       "10"
      ]
     },
     "execution_count": 3,
     "metadata": {},
     "output_type": "execute_result"
    }
   ],
   "source": [
    "binomial(5, 2)"
   ]
  },
  {
   "cell_type": "code",
   "execution_count": 4,
   "id": "breeding-track",
   "metadata": {},
   "outputs": [],
   "source": [
    "def factorial_(n):\n",
    "    temp = 1\n",
    "    for i in range (1, n + 1):\n",
    "        temp *= i\n",
    "    return temp"
   ]
  },
  {
   "cell_type": "code",
   "execution_count": 5,
   "id": "middle-swaziland",
   "metadata": {},
   "outputs": [
    {
     "data": {
      "text/plain": [
       "24"
      ]
     },
     "execution_count": 5,
     "metadata": {},
     "output_type": "execute_result"
    }
   ],
   "source": [
    "factorial(4)"
   ]
  },
  {
   "cell_type": "code",
   "execution_count": 6,
   "id": "instrumental-comedy",
   "metadata": {},
   "outputs": [
    {
     "data": {
      "text/plain": [
       "24"
      ]
     },
     "execution_count": 6,
     "metadata": {},
     "output_type": "execute_result"
    }
   ],
   "source": [
    "factorial_(4)"
   ]
  },
  {
   "cell_type": "code",
   "execution_count": 7,
   "id": "broad-truth",
   "metadata": {},
   "outputs": [],
   "source": [
    "def multiplication_min_max(arr):\n",
    "    assert type(arr) == list and len(arr) >= 2, \"Assertion error\"\n",
    "    min_ = arr[0]\n",
    "    max_ = arr[0]\n",
    "    for i in range(0, len(arr)):\n",
    "        if arr[i] < min_:\n",
    "            min_ = arr[i]\n",
    "        if arr[i] > max_:\n",
    "            max_ = arr[i]\n",
    "    return max_ * min_"
   ]
  },
  {
   "cell_type": "code",
   "execution_count": 8,
   "id": "overhead-nashville",
   "metadata": {},
   "outputs": [
    {
     "data": {
      "text/plain": [
       "10"
      ]
     },
     "execution_count": 8,
     "metadata": {},
     "output_type": "execute_result"
    }
   ],
   "source": [
    "multiplication_min_max([5,2,3])"
   ]
  },
  {
   "cell_type": "code",
   "execution_count": 9,
   "id": "documentary-inventory",
   "metadata": {},
   "outputs": [],
   "source": [
    "def potega(n):\n",
    "    temp = 2\n",
    "    for i in range(1, n):\n",
    "        temp = 2 * temp\n",
    "    return temp"
   ]
  },
  {
   "cell_type": "code",
   "execution_count": 10,
   "id": "integral-settle",
   "metadata": {},
   "outputs": [
    {
     "data": {
      "text/plain": [
       "1024"
      ]
     },
     "execution_count": 10,
     "metadata": {},
     "output_type": "execute_result"
    }
   ],
   "source": [
    "potega(10)"
   ]
  },
  {
   "cell_type": "code",
   "execution_count": 11,
   "id": "tough-avatar",
   "metadata": {},
   "outputs": [],
   "source": [
    "def odwrotnosci(arr):\n",
    "    temp = 0\n",
    "    for el in arr:\n",
    "        temp += 1/el\n",
    "    return temp"
   ]
  },
  {
   "cell_type": "code",
   "execution_count": 12,
   "id": "suburban-orlando",
   "metadata": {},
   "outputs": [],
   "source": [
    "def insertionSort_iter(arr):\n",
    "    print(arr)\n",
    "    for i in range(1, len(arr)):\n",
    "        key = arr[i]\n",
    "        j = i-1\n",
    "        while j >= 0 and key < arr[j] :\n",
    "                arr[j + 1] = arr[j]\n",
    "                j -= 1\n",
    "        arr[j + 1] = key\n",
    "        print(arr)"
   ]
  },
  {
   "cell_type": "code",
   "execution_count": 13,
   "id": "perceived-responsibility",
   "metadata": {},
   "outputs": [
    {
     "name": "stdout",
     "output_type": "stream",
     "text": [
      "[12, 11, 2, 5, 6, 4]\n",
      "[11, 12, 2, 5, 6, 4]\n",
      "[2, 11, 12, 5, 6, 4]\n",
      "[2, 5, 11, 12, 6, 4]\n",
      "[2, 5, 6, 11, 12, 4]\n",
      "[2, 4, 5, 6, 11, 12]\n"
     ]
    }
   ],
   "source": [
    "arr = [12, 11, 2, 5, 6, 4]\n",
    "insertionSort_iter(arr)"
   ]
  },
  {
   "cell_type": "code",
   "execution_count": 14,
   "id": "young-essex",
   "metadata": {},
   "outputs": [],
   "source": [
    "def insertionSort_rec(arr, start, end):\n",
    "    if start >= end:\n",
    "        return\n",
    "    temp = arr[start]\n",
    "    i_index = -1\n",
    "    for i in range(start):\n",
    "        if arr[start] <= arr[i]:\n",
    "            i_index = i\n",
    "            break\n",
    "    if i_index >= 0:\n",
    "        for i in range(start, i_index, -1):\n",
    "            arr[i] = arr[i - 1]\n",
    "        arr[i_index] = temp\n",
    "    print(arr)\n",
    "    return insertionSort_rec(arr, start + 1, end)"
   ]
  },
  {
   "cell_type": "code",
   "execution_count": 15,
   "id": "greater-hearts",
   "metadata": {},
   "outputs": [
    {
     "name": "stdout",
     "output_type": "stream",
     "text": [
      "[11, 12, 2, 5, 6, 4]\n",
      "[2, 11, 12, 5, 6, 4]\n",
      "[2, 5, 11, 12, 6, 4]\n",
      "[2, 5, 6, 11, 12, 4]\n",
      "[2, 4, 5, 6, 11, 12]\n"
     ]
    }
   ],
   "source": [
    "arr = [12, 11, 2, 5, 6, 4]\n",
    "insertionSort_rec(arr, 1, len(arr))"
   ]
  },
  {
   "cell_type": "code",
   "execution_count": 16,
   "id": "powerful-exposure",
   "metadata": {},
   "outputs": [],
   "source": [
    "def fun(n):\n",
    "    if(n > 0):\n",
    "        fun(n - 1) \n",
    "        print(n, end = \", \")\n",
    "        fun(n - 1) "
   ]
  },
  {
   "cell_type": "code",
   "execution_count": 17,
   "id": "hollow-incidence",
   "metadata": {},
   "outputs": [
    {
     "name": "stdout",
     "output_type": "stream",
     "text": [
      "1, 2, 1, 3, 1, 2, 1, 4, 1, 2, 1, 3, 1, 2, 1, "
     ]
    }
   ],
   "source": [
    "fun(4)"
   ]
  },
  {
   "cell_type": "code",
   "execution_count": 18,
   "id": "communist-launch",
   "metadata": {},
   "outputs": [],
   "source": [
    "def string_length_(str_):\n",
    "    count = 0\n",
    "    for el in str_:\n",
    "        count += 1\n",
    "    return count"
   ]
  },
  {
   "cell_type": "code",
   "execution_count": 19,
   "id": "initial-illinois",
   "metadata": {},
   "outputs": [],
   "source": [
    "def string_length(str_) :\n",
    "    if str_ == '':\n",
    "        return 0\n",
    "    else :\n",
    "        return 1 + string_length(str_[1:])"
   ]
  },
  {
   "cell_type": "code",
   "execution_count": 20,
   "id": "settled-booth",
   "metadata": {},
   "outputs": [
    {
     "name": "stdout",
     "output_type": "stream",
     "text": [
      "11\n"
     ]
    }
   ],
   "source": [
    "print(string_length_('Informatyka'))"
   ]
  },
  {
   "cell_type": "code",
   "execution_count": 21,
   "id": "fewer-closing",
   "metadata": {},
   "outputs": [
    {
     "name": "stdout",
     "output_type": "stream",
     "text": [
      "11\n"
     ]
    }
   ],
   "source": [
    "print(string_length('Informatyka'))"
   ]
  },
  {
   "cell_type": "code",
   "execution_count": 22,
   "id": "danish-alert",
   "metadata": {},
   "outputs": [],
   "source": [
    "def bubbleSort(arr):\n",
    "    print(arr)\n",
    "    n = len(arr)\n",
    "    for i in range(n):\n",
    "        for j in range(0, n-i-1):\n",
    "            if arr[j] > arr[j+1] :\n",
    "                arr[j], arr[j+1] = arr[j+1], arr[j]\n",
    "        print(arr)"
   ]
  },
  {
   "cell_type": "code",
   "execution_count": 23,
   "id": "curious-tattoo",
   "metadata": {},
   "outputs": [
    {
     "name": "stdout",
     "output_type": "stream",
     "text": [
      "[12, 11, 2, 5, 6, 4]\n",
      "[11, 2, 5, 6, 4, 12]\n",
      "[2, 5, 6, 4, 11, 12]\n",
      "[2, 5, 4, 6, 11, 12]\n",
      "[2, 4, 5, 6, 11, 12]\n",
      "[2, 4, 5, 6, 11, 12]\n",
      "[2, 4, 5, 6, 11, 12]\n"
     ]
    }
   ],
   "source": [
    "arr = [12, 11, 2, 5, 6, 4]\n",
    "bubbleSort(arr)"
   ]
  },
  {
   "cell_type": "markdown",
   "id": "unauthorized-safety",
   "metadata": {},
   "source": [
    "# Zadania"
   ]
  },
  {
   "cell_type": "markdown",
   "id": "communist-examination",
   "metadata": {},
   "source": [
    "1) Napisz funkcję, która znajdzie przedostatni największy element w liście używając sortowania"
   ]
  },
  {
   "cell_type": "code",
   "execution_count": 24,
   "id": "according-shelter",
   "metadata": {},
   "outputs": [],
   "source": [
    "def before_last(arr):\n",
    "    pass"
   ]
  },
  {
   "cell_type": "markdown",
   "id": "particular-saint",
   "metadata": {},
   "source": [
    "2)* Napisz funkcję, która znajdzie przedostatni największy element w liście nie korzystając z sortowania i używając tylko jednej pętli"
   ]
  },
  {
   "cell_type": "markdown",
   "id": "weird-brazil",
   "metadata": {},
   "source": [
    "3) Napisz funkcję rekurencyjną, która dla danego stringa zwróci ilość wystąpień podsłowa 'abc' (bez korzystania z metod dla typu str)"
   ]
  },
  {
   "cell_type": "code",
   "execution_count": 25,
   "id": "indirect-answer",
   "metadata": {},
   "outputs": [],
   "source": [
    "def substr(string):\n",
    "    pass"
   ]
  },
  {
   "cell_type": "markdown",
   "id": "killing-sphere",
   "metadata": {},
   "source": [
    "4) Napisz funkcję iteracyjną, która dla danego stringa zwróci ilość wystąpień podsłowa 'abc' (bez korzystania z metod dla typu str)"
   ]
  },
  {
   "cell_type": "markdown",
   "id": "funny-glass",
   "metadata": {},
   "source": [
    "5) Napisz funkcję rekurencyjną, która dla danej liczby naturalnej $n$ zwróci $n^{n}$"
   ]
  },
  {
   "cell_type": "markdown",
   "id": "macro-warrior",
   "metadata": {},
   "source": [
    "6) Napisz funkcję iteracyjną, która dla danej liczby naturalnej $n$ zwróci $n^{n}$"
   ]
  },
  {
   "cell_type": "markdown",
   "id": "younger-internet",
   "metadata": {},
   "source": [
    "7)* Usprawnić kod binomial z dzisiejszych zajęć, żeby nie liczył niepotrzebne silnie"
   ]
  }
 ],
 "metadata": {
  "kernelspec": {
   "display_name": "Python 3",
   "language": "python",
   "name": "python3"
  },
  "language_info": {
   "codemirror_mode": {
    "name": "ipython",
    "version": 3
   },
   "file_extension": ".py",
   "mimetype": "text/x-python",
   "name": "python",
   "nbconvert_exporter": "python",
   "pygments_lexer": "ipython3",
   "version": "3.8.5"
  }
 },
 "nbformat": 4,
 "nbformat_minor": 5
}
