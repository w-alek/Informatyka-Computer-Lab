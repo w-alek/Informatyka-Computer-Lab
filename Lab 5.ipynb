{
 "cells": [
  {
   "cell_type": "code",
   "execution_count": 1,
   "id": "lonely-refund",
   "metadata": {},
   "outputs": [],
   "source": [
    "def almost_last_with_sort(arr):\n",
    "    if len(arr) < 2:\n",
    "        print('Lista z jednym elementem')\n",
    "        return None\n",
    "    arr_copy = arr.copy()\n",
    "    arr_copy.sort()\n",
    "    for i in range(len(arr_copy) - 1):\n",
    "        if arr_copy[-1 - i] != arr_copy[-2 - i]:\n",
    "            return arr_copy[-2 - i]\n",
    "    print('Brak przedostatniego elementu w liście')"
   ]
  },
  {
   "cell_type": "code",
   "execution_count": 2,
   "id": "pretty-parts",
   "metadata": {},
   "outputs": [
    {
     "data": {
      "text/plain": [
       "2"
      ]
     },
     "execution_count": 2,
     "metadata": {},
     "output_type": "execute_result"
    }
   ],
   "source": [
    "almost_last_with_sort([4,1,2,4,0])"
   ]
  },
  {
   "cell_type": "code",
   "execution_count": 3,
   "id": "comfortable-toronto",
   "metadata": {},
   "outputs": [
    {
     "name": "stdout",
     "output_type": "stream",
     "text": [
      "Brak przedostatniego elementu w liście\n"
     ]
    }
   ],
   "source": [
    "almost_last_with_sort([4,4,4,4,4])"
   ]
  },
  {
   "cell_type": "code",
   "execution_count": 4,
   "id": "universal-resident",
   "metadata": {},
   "outputs": [
    {
     "data": {
      "text/plain": [
       "0"
      ]
     },
     "execution_count": 4,
     "metadata": {},
     "output_type": "execute_result"
    }
   ],
   "source": [
    "almost_last_with_sort([0,4,4,4,4])"
   ]
  },
  {
   "cell_type": "code",
   "execution_count": 5,
   "id": "impressed-cuisine",
   "metadata": {},
   "outputs": [],
   "source": [
    "def almost_last(arr):\n",
    "    if len(arr) < 2:\n",
    "        print('Lista z jednym elementem')\n",
    "        return None\n",
    "    max_ = max(arr[0],arr[1])\n",
    "    max__ = min(arr[0],arr[1])\n",
    "    for el in arr[2:]:\n",
    "        if max_ < el:\n",
    "            max__ = max_\n",
    "            max_ = el\n",
    "        elif max_ != el and max__ < el:\n",
    "            max__ = el\n",
    "    if max__ == max_:\n",
    "        print('Brak przedostatniego elementu w liście')\n",
    "        return None\n",
    "    return max__"
   ]
  },
  {
   "cell_type": "code",
   "execution_count": 6,
   "id": "impaired-arrest",
   "metadata": {},
   "outputs": [
    {
     "data": {
      "text/plain": [
       "2"
      ]
     },
     "execution_count": 6,
     "metadata": {},
     "output_type": "execute_result"
    }
   ],
   "source": [
    "almost_last([0,1,2,4,4])"
   ]
  },
  {
   "cell_type": "code",
   "execution_count": 7,
   "id": "fatal-little",
   "metadata": {},
   "outputs": [
    {
     "name": "stdout",
     "output_type": "stream",
     "text": [
      "Brak przedostatniego elementu w liście\n"
     ]
    }
   ],
   "source": [
    "almost_last([4,4,4,4,4])"
   ]
  },
  {
   "cell_type": "code",
   "execution_count": 8,
   "id": "plastic-subcommittee",
   "metadata": {},
   "outputs": [
    {
     "data": {
      "text/plain": [
       "0"
      ]
     },
     "execution_count": 8,
     "metadata": {},
     "output_type": "execute_result"
    }
   ],
   "source": [
    "almost_last([0,4,4,4,4])"
   ]
  },
  {
   "cell_type": "code",
   "execution_count": 9,
   "id": "instant-boost",
   "metadata": {},
   "outputs": [],
   "source": [
    "def substr(string):\n",
    "    if len(string) < 3:\n",
    "        return 0\n",
    "    else:\n",
    "        if 'abc' in string[:3]:\n",
    "            return 1 + substr(string[3:])\n",
    "        else:\n",
    "            return substr(string[1:])"
   ]
  },
  {
   "cell_type": "code",
   "execution_count": 10,
   "id": "third-belgium",
   "metadata": {},
   "outputs": [
    {
     "data": {
      "text/plain": [
       "5"
      ]
     },
     "execution_count": 10,
     "metadata": {},
     "output_type": "execute_result"
    }
   ],
   "source": [
    "substr('abc abcabcabcfff ab abc')"
   ]
  },
  {
   "cell_type": "code",
   "execution_count": 11,
   "id": "textile-kentucky",
   "metadata": {},
   "outputs": [],
   "source": [
    "def substr_iter(string):\n",
    "    count = 0\n",
    "    for i in range(len(string)):\n",
    "        if string[i: i + 3] == 'abc':\n",
    "            count += 1\n",
    "    return count"
   ]
  },
  {
   "cell_type": "code",
   "execution_count": 12,
   "id": "wrapped-south",
   "metadata": {},
   "outputs": [
    {
     "data": {
      "text/plain": [
       "5"
      ]
     },
     "execution_count": 12,
     "metadata": {},
     "output_type": "execute_result"
    }
   ],
   "source": [
    "substr_iter('abc abcabcabcfff ab abc')"
   ]
  },
  {
   "cell_type": "code",
   "execution_count": 13,
   "id": "lesbian-honolulu",
   "metadata": {},
   "outputs": [],
   "source": [
    "def n_to_n(n, k):\n",
    "    if k == 1:\n",
    "        return n\n",
    "    return n_to_n(n, k - 1) * n"
   ]
  },
  {
   "cell_type": "code",
   "execution_count": 14,
   "id": "federal-terminology",
   "metadata": {},
   "outputs": [
    {
     "data": {
      "text/plain": [
       "27"
      ]
     },
     "execution_count": 14,
     "metadata": {},
     "output_type": "execute_result"
    }
   ],
   "source": [
    "n_to_n(3, 3)"
   ]
  },
  {
   "cell_type": "code",
   "execution_count": 15,
   "id": "certain-printing",
   "metadata": {},
   "outputs": [],
   "source": [
    "def n_to_n_iter(n):\n",
    "    temp = 1\n",
    "    for i in range(n):\n",
    "        temp *= n\n",
    "    return temp"
   ]
  },
  {
   "cell_type": "code",
   "execution_count": 16,
   "id": "recovered-material",
   "metadata": {},
   "outputs": [
    {
     "data": {
      "text/plain": [
       "27"
      ]
     },
     "execution_count": 16,
     "metadata": {},
     "output_type": "execute_result"
    }
   ],
   "source": [
    "n_to_n_iter(3)"
   ]
  },
  {
   "cell_type": "code",
   "execution_count": 17,
   "id": "amateur-announcement",
   "metadata": {},
   "outputs": [],
   "source": [
    "def factorial(n, k = 0):\n",
    "    values = []\n",
    "    temp = 1\n",
    "    for i in range(1, n + 1):\n",
    "        temp *= i\n",
    "        if i == k:\n",
    "            values.append(temp)\n",
    "        if i == n - k:\n",
    "            values.append(temp)\n",
    "    values.append(temp)\n",
    "    return values"
   ]
  },
  {
   "cell_type": "code",
   "execution_count": 18,
   "id": "partial-rolling",
   "metadata": {},
   "outputs": [],
   "source": [
    "def binomial(n, k):\n",
    "    if n < k:\n",
    "        return 0\n",
    "    else:\n",
    "        a, b, c = factorial(n, k)\n",
    "        return c//(b * a)"
   ]
  },
  {
   "cell_type": "code",
   "execution_count": 19,
   "id": "patient-firewall",
   "metadata": {},
   "outputs": [
    {
     "data": {
      "text/plain": [
       "[2, 6, 120]"
      ]
     },
     "execution_count": 19,
     "metadata": {},
     "output_type": "execute_result"
    }
   ],
   "source": [
    "factorial(5, 3)"
   ]
  },
  {
   "cell_type": "code",
   "execution_count": 20,
   "id": "elder-eating",
   "metadata": {},
   "outputs": [
    {
     "data": {
      "text/plain": [
       "10"
      ]
     },
     "execution_count": 20,
     "metadata": {},
     "output_type": "execute_result"
    }
   ],
   "source": [
    "binomial(5, 3)"
   ]
  },
  {
   "cell_type": "code",
   "execution_count": null,
   "id": "another-october",
   "metadata": {},
   "outputs": [],
   "source": []
  },
  {
   "cell_type": "code",
   "execution_count": 21,
   "id": "million-mainland",
   "metadata": {},
   "outputs": [],
   "source": [
    "import time"
   ]
  },
  {
   "cell_type": "code",
   "execution_count": 22,
   "id": "increasing-shanghai",
   "metadata": {},
   "outputs": [],
   "source": [
    "def power_2(n):\n",
    "    temp = 1\n",
    "    for i in range(n):\n",
    "        temp *= 2\n",
    "    return temp"
   ]
  },
  {
   "cell_type": "code",
   "execution_count": 23,
   "id": "leading-breed",
   "metadata": {},
   "outputs": [
    {
     "name": "stdout",
     "output_type": "stream",
     "text": [
      "13.516888618469238\n"
     ]
    }
   ],
   "source": [
    "start = time.time()\n",
    "power_2(500000)\n",
    "end = time.time()\n",
    "print(end - start)"
   ]
  },
  {
   "cell_type": "markdown",
   "id": "arabic-functionality",
   "metadata": {},
   "source": [
    "$2^{100} = 2^{50} * 2^{50} = (2^{50})^{2}$ <br>\n",
    "$2^{50} = 2^{25} * 2^{25} = (2^{25})^{2}$ <br>\n",
    "$2^{25} = 2 * 2^{24} = 2 * 2^{12} * 2^{12} = 2 * (2^{12})^{2}$"
   ]
  },
  {
   "cell_type": "code",
   "execution_count": 24,
   "id": "wicked-finder",
   "metadata": {},
   "outputs": [],
   "source": [
    "def power_2_fast_recursive(n):\n",
    "    if n == 0:\n",
    "        return 1\n",
    "    else:\n",
    "        if n % 2 == 0:\n",
    "            return power_2_fast_recursive(n//2)**2\n",
    "        else:\n",
    "            return 2 * (power_2_fast_recursive(n//2)**2)"
   ]
  },
  {
   "cell_type": "code",
   "execution_count": 25,
   "id": "touched-relation",
   "metadata": {},
   "outputs": [
    {
     "name": "stdout",
     "output_type": "stream",
     "text": [
      "0.0069200992584228516\n"
     ]
    }
   ],
   "source": [
    "start = time.time()\n",
    "power_2_fast_recursive(500000)\n",
    "end = time.time()\n",
    "print(end - start)"
   ]
  },
  {
   "cell_type": "code",
   "execution_count": 26,
   "id": "identical-wayne",
   "metadata": {},
   "outputs": [],
   "source": [
    "def TowerOfHanoi(n , from_rod, to_rod, aux_rod):\n",
    "    if n == 1:\n",
    "        print(\"Move disk 1 from rod\",from_rod,\"to rod\",to_rod)\n",
    "        return\n",
    "    TowerOfHanoi(n-1, from_rod, aux_rod, to_rod)\n",
    "    print(\"Move disk\",n,\"from rod\",from_rod,\"to rod\",to_rod)\n",
    "    TowerOfHanoi(n-1, aux_rod, to_rod, from_rod)"
   ]
  },
  {
   "cell_type": "code",
   "execution_count": 27,
   "id": "loving-twelve",
   "metadata": {},
   "outputs": [
    {
     "name": "stdout",
     "output_type": "stream",
     "text": [
      "Move disk 1 from rod A to rod C\n",
      "Move disk 2 from rod A to rod B\n",
      "Move disk 1 from rod C to rod B\n",
      "Move disk 3 from rod A to rod C\n",
      "Move disk 1 from rod B to rod A\n",
      "Move disk 2 from rod B to rod C\n",
      "Move disk 1 from rod A to rod C\n",
      "Move disk 4 from rod A to rod B\n",
      "Move disk 1 from rod C to rod B\n",
      "Move disk 2 from rod C to rod A\n",
      "Move disk 1 from rod B to rod A\n",
      "Move disk 3 from rod C to rod B\n",
      "Move disk 1 from rod A to rod C\n",
      "Move disk 2 from rod A to rod B\n",
      "Move disk 1 from rod C to rod B\n",
      "Move disk 5 from rod A to rod C\n",
      "Move disk 1 from rod B to rod A\n",
      "Move disk 2 from rod B to rod C\n",
      "Move disk 1 from rod A to rod C\n",
      "Move disk 3 from rod B to rod A\n",
      "Move disk 1 from rod C to rod B\n",
      "Move disk 2 from rod C to rod A\n",
      "Move disk 1 from rod B to rod A\n",
      "Move disk 4 from rod B to rod C\n",
      "Move disk 1 from rod A to rod C\n",
      "Move disk 2 from rod A to rod B\n",
      "Move disk 1 from rod C to rod B\n",
      "Move disk 3 from rod A to rod C\n",
      "Move disk 1 from rod B to rod A\n",
      "Move disk 2 from rod B to rod C\n",
      "Move disk 1 from rod A to rod C\n"
     ]
    }
   ],
   "source": [
    "n = 5\n",
    "TowerOfHanoi(n, 'A', 'C', 'B')"
   ]
  },
  {
   "cell_type": "code",
   "execution_count": 28,
   "id": "invalid-observation",
   "metadata": {},
   "outputs": [],
   "source": [
    "def binary_search_rec(arr, low_index, high_index, x):\n",
    "    temp = (low_index + high_index)//2\n",
    "    if x == arr[temp]:\n",
    "        return temp\n",
    "    elif x < arr[temp]:\n",
    "        return binary_search_rec(arr, low_index, temp - 1, x)\n",
    "    else:\n",
    "        return binary_search_rec(arr, temp + 1, high_index, x)"
   ]
  },
  {
   "cell_type": "code",
   "execution_count": 29,
   "id": "mediterranean-experience",
   "metadata": {},
   "outputs": [
    {
     "name": "stdout",
     "output_type": "stream",
     "text": [
      "3\n"
     ]
    }
   ],
   "source": [
    "print(binary_search_rec([1,2,6,15,20], 0, 4, 15))"
   ]
  },
  {
   "cell_type": "code",
   "execution_count": 30,
   "id": "urban-fleece",
   "metadata": {},
   "outputs": [
    {
     "name": "stdout",
     "output_type": "stream",
     "text": [
      "[[1, 2, 3], [1, 2, 0], [1, 1, 1]]\n",
      "[[3, 6, 9], [3, 6, 0], [3, 3, 3]]\n"
     ]
    }
   ],
   "source": [
    "v = [[1,2,3], [1,2,0], [1,1,1]]\n",
    "#v_copy = v.copy()\n",
    "print(v)\n",
    "for el in v:\n",
    "    for i in range(len(el)):\n",
    "        # for el_ in el:\n",
    "        el[i] *= 3\n",
    "print(v)"
   ]
  },
  {
   "cell_type": "code",
   "execution_count": 31,
   "id": "accompanied-segment",
   "metadata": {},
   "outputs": [],
   "source": [
    "def mult(matrix):\n",
    "    matrix_copy = matrix.copy()\n",
    "    for el in matrix_copy:\n",
    "        for i in range(len(el)):\n",
    "            el[i] *= 3\n",
    "    return matrix_copy"
   ]
  },
  {
   "cell_type": "code",
   "execution_count": 32,
   "id": "patent-suggestion",
   "metadata": {},
   "outputs": [
    {
     "data": {
      "text/plain": [
       "[[3, 6, 9], [3, 6, 0], [3, 3, 3]]"
      ]
     },
     "execution_count": 32,
     "metadata": {},
     "output_type": "execute_result"
    }
   ],
   "source": [
    "v = [[1,2,3], [1,2,0], [1,1,1]]\n",
    "mult(v)"
   ]
  },
  {
   "cell_type": "markdown",
   "id": "referenced-french",
   "metadata": {},
   "source": [
    "## Zadania\n",
    "W poniższych zadaniach przyjmujemy, że [a, b, c, ...] to macierz o wierszach a, b, c..., na przykład [[1,2,3], [1, 0, 1], [0, 0, 10]] to macierz\n",
    "\\begin{bmatrix}\n",
    "1 & 2 & 3\\\\\n",
    "1 & 0 & 1\\\\\n",
    "0 & 0 & 10\n",
    "\\end{bmatrix}"
   ]
  },
  {
   "cell_type": "markdown",
   "id": "first-weight",
   "metadata": {},
   "source": [
    "1) Dla danej macierzy A, oblicz jej ślad - sumę elementów macierzy na przekątnej."
   ]
  },
  {
   "cell_type": "code",
   "execution_count": 33,
   "id": "anonymous-cover",
   "metadata": {},
   "outputs": [],
   "source": [
    "def trace(A):\n",
    "    pass"
   ]
  },
  {
   "cell_type": "code",
   "execution_count": 34,
   "id": "serious-nation",
   "metadata": {},
   "outputs": [
    {
     "ename": "AssertionError",
     "evalue": "",
     "output_type": "error",
     "traceback": [
      "\u001b[0;31m---------------------------------------------------------------------------\u001b[0m",
      "\u001b[0;31mAssertionError\u001b[0m                            Traceback (most recent call last)",
      "\u001b[0;32m<ipython-input-34-fa77e296efee>\u001b[0m in \u001b[0;36m<module>\u001b[0;34m\u001b[0m\n\u001b[0;32m----> 1\u001b[0;31m \u001b[0;32massert\u001b[0m\u001b[0;34m(\u001b[0m\u001b[0mtrace\u001b[0m\u001b[0;34m(\u001b[0m\u001b[0;34m[\u001b[0m\u001b[0;34m[\u001b[0m\u001b[0;36m1\u001b[0m\u001b[0;34m,\u001b[0m\u001b[0;36m2\u001b[0m\u001b[0;34m,\u001b[0m\u001b[0;36m3\u001b[0m\u001b[0;34m]\u001b[0m\u001b[0;34m,\u001b[0m \u001b[0;34m[\u001b[0m\u001b[0;36m1\u001b[0m\u001b[0;34m,\u001b[0m \u001b[0;36m0\u001b[0m\u001b[0;34m,\u001b[0m \u001b[0;36m1\u001b[0m\u001b[0;34m]\u001b[0m\u001b[0;34m,\u001b[0m \u001b[0;34m[\u001b[0m\u001b[0;36m0\u001b[0m\u001b[0;34m,\u001b[0m \u001b[0;36m0\u001b[0m\u001b[0;34m,\u001b[0m \u001b[0;36m10\u001b[0m\u001b[0;34m]\u001b[0m\u001b[0;34m]\u001b[0m\u001b[0;34m)\u001b[0m\u001b[0;34m)\u001b[0m \u001b[0;34m==\u001b[0m \u001b[0;36m11\u001b[0m\u001b[0;34m\u001b[0m\u001b[0;34m\u001b[0m\u001b[0m\n\u001b[0m",
      "\u001b[0;31mAssertionError\u001b[0m: "
     ]
    }
   ],
   "source": [
    "assert(trace([[1,2,3], [1, 0, 1], [0, 0, 10]])) == 11"
   ]
  },
  {
   "cell_type": "markdown",
   "id": "future-palestinian",
   "metadata": {},
   "source": [
    "2) Dla danej macierzy A, zwróć jej transpozycję."
   ]
  },
  {
   "cell_type": "code",
   "execution_count": 35,
   "id": "formed-ready",
   "metadata": {},
   "outputs": [],
   "source": [
    "def transpose(A):\n",
    "    pass"
   ]
  },
  {
   "cell_type": "code",
   "execution_count": 36,
   "id": "sunrise-composition",
   "metadata": {},
   "outputs": [
    {
     "ename": "AssertionError",
     "evalue": "",
     "output_type": "error",
     "traceback": [
      "\u001b[0;31m---------------------------------------------------------------------------\u001b[0m",
      "\u001b[0;31mAssertionError\u001b[0m                            Traceback (most recent call last)",
      "\u001b[0;32m<ipython-input-36-1abcfc031bbd>\u001b[0m in \u001b[0;36m<module>\u001b[0;34m\u001b[0m\n\u001b[0;32m----> 1\u001b[0;31m \u001b[0;32massert\u001b[0m\u001b[0;34m(\u001b[0m\u001b[0mtrace\u001b[0m\u001b[0;34m(\u001b[0m\u001b[0;34m[\u001b[0m\u001b[0;34m[\u001b[0m\u001b[0;36m1\u001b[0m\u001b[0;34m,\u001b[0m\u001b[0;36m1\u001b[0m\u001b[0;34m,\u001b[0m\u001b[0;36m0\u001b[0m\u001b[0;34m]\u001b[0m\u001b[0;34m,\u001b[0m \u001b[0;34m[\u001b[0m\u001b[0;36m2\u001b[0m\u001b[0;34m,\u001b[0m \u001b[0;36m0\u001b[0m\u001b[0;34m,\u001b[0m \u001b[0;36m0\u001b[0m\u001b[0;34m]\u001b[0m\u001b[0;34m,\u001b[0m \u001b[0;34m[\u001b[0m\u001b[0;36m3\u001b[0m\u001b[0;34m,\u001b[0m \u001b[0;36m1\u001b[0m\u001b[0;34m,\u001b[0m \u001b[0;36m10\u001b[0m\u001b[0;34m]\u001b[0m\u001b[0;34m]\u001b[0m\u001b[0;34m)\u001b[0m\u001b[0;34m)\u001b[0m \u001b[0;34m==\u001b[0m \u001b[0;34m[\u001b[0m\u001b[0;34m[\u001b[0m\u001b[0;36m1\u001b[0m\u001b[0;34m,\u001b[0m\u001b[0;36m2\u001b[0m\u001b[0;34m,\u001b[0m\u001b[0;36m3\u001b[0m\u001b[0;34m]\u001b[0m\u001b[0;34m,\u001b[0m \u001b[0;34m[\u001b[0m\u001b[0;36m1\u001b[0m\u001b[0;34m,\u001b[0m \u001b[0;36m0\u001b[0m\u001b[0;34m,\u001b[0m \u001b[0;36m1\u001b[0m\u001b[0;34m]\u001b[0m\u001b[0;34m,\u001b[0m \u001b[0;34m[\u001b[0m\u001b[0;36m0\u001b[0m\u001b[0;34m,\u001b[0m \u001b[0;36m0\u001b[0m\u001b[0;34m,\u001b[0m \u001b[0;36m10\u001b[0m\u001b[0;34m]\u001b[0m\u001b[0;34m]\u001b[0m\u001b[0;34m\u001b[0m\u001b[0;34m\u001b[0m\u001b[0m\n\u001b[0m",
      "\u001b[0;31mAssertionError\u001b[0m: "
     ]
    }
   ],
   "source": [
    "assert(trace([[1,1,0], [2, 0, 0], [3, 1, 10]])) == [[1,2,3], [1, 0, 1], [0, 0, 10]]"
   ]
  },
  {
   "cell_type": "markdown",
   "id": "suspected-thompson",
   "metadata": {},
   "source": [
    "3)* Dla danej macierzy A, zwróć jej transpozycję w miejscu, bez korzystania z dodatkowej pamięci, to znaczy jedyną pamięcią na, której operuje funkcja to macierz A."
   ]
  },
  {
   "cell_type": "markdown",
   "id": "bronze-patrol",
   "metadata": {},
   "source": [
    "4) Napisz algorytm, który znajdzie największy wspólny dzielnik liczb a i b wiedząc, że jedna z nich jest potęgą dwójki, bez używania algorytmu Euklidesa i jego innych wariancji. W tym zadaniu liczy się szybkośc algorytmu, który zostanie zaimplementowany."
   ]
  },
  {
   "cell_type": "markdown",
   "id": "pregnant-ambassador",
   "metadata": {},
   "source": [
    "5)* Zmodyfikuj powyższy algorytm binary search tak, aby dalej szukał elementu w posortowanej liście jednak tym razem dla dowolnego elementu również takiego, którego może nie być w liście i wtedy zwracać odpowiednią informację"
   ]
  },
  {
   "cell_type": "code",
   "execution_count": 37,
   "id": "written-pitch",
   "metadata": {},
   "outputs": [],
   "source": [
    "def binary_search_rec_modification(arr, x):\n",
    "    '''\n",
    "    Searching x in sorted array using binary search. Return information if x is not in array.\n",
    "    '''"
   ]
  },
  {
   "cell_type": "markdown",
   "id": "grave-controversy",
   "metadata": {},
   "source": [
    "6) Przeczytać jak w pythonie robi się wyszukiwanie w słowniku. <br>\n",
    "Wyszukiwanie w słowniku vs wyszukiwanie w liście."
   ]
  },
  {
   "cell_type": "markdown",
   "id": "honey-broadway",
   "metadata": {},
   "source": [
    "7) Iteracja po liście"
   ]
  },
  {
   "cell_type": "code",
   "execution_count": 38,
   "id": "grateful-delaware",
   "metadata": {},
   "outputs": [
    {
     "data": {
      "text/plain": [
       "'\\nl [...]\\nfor i in range(len(l)):\\nfor el in l:\\nfor i, el in enumerate(l):\\n'"
      ]
     },
     "execution_count": 38,
     "metadata": {},
     "output_type": "execute_result"
    }
   ],
   "source": [
    "'''\n",
    "l [...]\n",
    "for i in range(len(l)):\n",
    "for el in l:\n",
    "for i, el in enumerate(l):\n",
    "'''"
   ]
  },
  {
   "cell_type": "code",
   "execution_count": null,
   "id": "cross-wichita",
   "metadata": {},
   "outputs": [],
   "source": []
  }
 ],
 "metadata": {
  "kernelspec": {
   "display_name": "Python 3",
   "language": "python",
   "name": "python3"
  },
  "language_info": {
   "codemirror_mode": {
    "name": "ipython",
    "version": 3
   },
   "file_extension": ".py",
   "mimetype": "text/x-python",
   "name": "python",
   "nbconvert_exporter": "python",
   "pygments_lexer": "ipython3",
   "version": "3.8.5"
  }
 },
 "nbformat": 4,
 "nbformat_minor": 5
}
