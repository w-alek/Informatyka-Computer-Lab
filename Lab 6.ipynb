{
 "cells": [
  {
   "cell_type": "code",
   "execution_count": 1,
   "id": "closing-career",
   "metadata": {},
   "outputs": [],
   "source": [
    "def trace(A):\n",
    "    if type(A) != type([]):\n",
    "        raise TypeError ('Nie właściwy format danych wejściowych')\n",
    "    if len(A[0]) != len(A):\n",
    "        raise ValueError ('Macierz nie jest kwadratowa')\n",
    "    trace = 0.0\n",
    "    for i in range(len(A)):\n",
    "        trace += A[i][i]\n",
    "    return trace"
   ]
  },
  {
   "cell_type": "code",
   "execution_count": 2,
   "id": "cubic-facing",
   "metadata": {},
   "outputs": [
    {
     "ename": "TypeError",
     "evalue": "Nie właściwy format danych wejściowych",
     "output_type": "error",
     "traceback": [
      "\u001b[0;31m---------------------------------------------------------------------------\u001b[0m",
      "\u001b[0;31mTypeError\u001b[0m                                 Traceback (most recent call last)",
      "\u001b[0;32m<ipython-input-2-16b86f26ae8b>\u001b[0m in \u001b[0;36m<module>\u001b[0;34m\u001b[0m\n\u001b[0;32m----> 1\u001b[0;31m \u001b[0mtrace\u001b[0m\u001b[0;34m(\u001b[0m\u001b[0;34m's'\u001b[0m\u001b[0;34m)\u001b[0m\u001b[0;34m\u001b[0m\u001b[0;34m\u001b[0m\u001b[0m\n\u001b[0m",
      "\u001b[0;32m<ipython-input-1-1f6dc97e6c13>\u001b[0m in \u001b[0;36mtrace\u001b[0;34m(A)\u001b[0m\n\u001b[1;32m      1\u001b[0m \u001b[0;32mdef\u001b[0m \u001b[0mtrace\u001b[0m\u001b[0;34m(\u001b[0m\u001b[0mA\u001b[0m\u001b[0;34m)\u001b[0m\u001b[0;34m:\u001b[0m\u001b[0;34m\u001b[0m\u001b[0;34m\u001b[0m\u001b[0m\n\u001b[1;32m      2\u001b[0m     \u001b[0;32mif\u001b[0m \u001b[0mtype\u001b[0m\u001b[0;34m(\u001b[0m\u001b[0mA\u001b[0m\u001b[0;34m)\u001b[0m \u001b[0;34m!=\u001b[0m \u001b[0mtype\u001b[0m\u001b[0;34m(\u001b[0m\u001b[0;34m[\u001b[0m\u001b[0;34m]\u001b[0m\u001b[0;34m)\u001b[0m\u001b[0;34m:\u001b[0m\u001b[0;34m\u001b[0m\u001b[0;34m\u001b[0m\u001b[0m\n\u001b[0;32m----> 3\u001b[0;31m         \u001b[0;32mraise\u001b[0m \u001b[0mTypeError\u001b[0m \u001b[0;34m(\u001b[0m\u001b[0;34m'Nie właściwy format danych wejściowych'\u001b[0m\u001b[0;34m)\u001b[0m\u001b[0;34m\u001b[0m\u001b[0;34m\u001b[0m\u001b[0m\n\u001b[0m\u001b[1;32m      4\u001b[0m     \u001b[0;32mif\u001b[0m \u001b[0mlen\u001b[0m\u001b[0;34m(\u001b[0m\u001b[0mA\u001b[0m\u001b[0;34m[\u001b[0m\u001b[0;36m0\u001b[0m\u001b[0;34m]\u001b[0m\u001b[0;34m)\u001b[0m \u001b[0;34m!=\u001b[0m \u001b[0mlen\u001b[0m\u001b[0;34m(\u001b[0m\u001b[0mA\u001b[0m\u001b[0;34m)\u001b[0m\u001b[0;34m:\u001b[0m\u001b[0;34m\u001b[0m\u001b[0;34m\u001b[0m\u001b[0m\n\u001b[1;32m      5\u001b[0m         \u001b[0;32mraise\u001b[0m \u001b[0mValueError\u001b[0m \u001b[0;34m(\u001b[0m\u001b[0;34m'Macierz nie jest kwadratowa'\u001b[0m\u001b[0;34m)\u001b[0m\u001b[0;34m\u001b[0m\u001b[0;34m\u001b[0m\u001b[0m\n",
      "\u001b[0;31mTypeError\u001b[0m: Nie właściwy format danych wejściowych"
     ]
    }
   ],
   "source": [
    "trace('s')"
   ]
  },
  {
   "cell_type": "code",
   "execution_count": 3,
   "id": "regular-disposal",
   "metadata": {},
   "outputs": [
    {
     "ename": "ValueError",
     "evalue": "Macierz nie jest kwadratowa",
     "output_type": "error",
     "traceback": [
      "\u001b[0;31m---------------------------------------------------------------------------\u001b[0m",
      "\u001b[0;31mValueError\u001b[0m                                Traceback (most recent call last)",
      "\u001b[0;32m<ipython-input-3-558c9d3a24b1>\u001b[0m in \u001b[0;36m<module>\u001b[0;34m\u001b[0m\n\u001b[0;32m----> 1\u001b[0;31m \u001b[0mtrace\u001b[0m\u001b[0;34m(\u001b[0m\u001b[0;34m[\u001b[0m\u001b[0;34m[\u001b[0m\u001b[0;36m1\u001b[0m\u001b[0;34m,\u001b[0m\u001b[0;36m2\u001b[0m\u001b[0;34m,\u001b[0m\u001b[0;36m3\u001b[0m\u001b[0;34m]\u001b[0m\u001b[0;34m,\u001b[0m \u001b[0;34m[\u001b[0m\u001b[0;36m1\u001b[0m\u001b[0;34m,\u001b[0m \u001b[0;36m0\u001b[0m\u001b[0;34m,\u001b[0m \u001b[0;36m1\u001b[0m\u001b[0;34m]\u001b[0m\u001b[0;34m]\u001b[0m\u001b[0;34m)\u001b[0m\u001b[0;34m\u001b[0m\u001b[0;34m\u001b[0m\u001b[0m\n\u001b[0m",
      "\u001b[0;32m<ipython-input-1-1f6dc97e6c13>\u001b[0m in \u001b[0;36mtrace\u001b[0;34m(A)\u001b[0m\n\u001b[1;32m      3\u001b[0m         \u001b[0;32mraise\u001b[0m \u001b[0mTypeError\u001b[0m \u001b[0;34m(\u001b[0m\u001b[0;34m'Nie właściwy format danych wejściowych'\u001b[0m\u001b[0;34m)\u001b[0m\u001b[0;34m\u001b[0m\u001b[0;34m\u001b[0m\u001b[0m\n\u001b[1;32m      4\u001b[0m     \u001b[0;32mif\u001b[0m \u001b[0mlen\u001b[0m\u001b[0;34m(\u001b[0m\u001b[0mA\u001b[0m\u001b[0;34m[\u001b[0m\u001b[0;36m0\u001b[0m\u001b[0;34m]\u001b[0m\u001b[0;34m)\u001b[0m \u001b[0;34m!=\u001b[0m \u001b[0mlen\u001b[0m\u001b[0;34m(\u001b[0m\u001b[0mA\u001b[0m\u001b[0;34m)\u001b[0m\u001b[0;34m:\u001b[0m\u001b[0;34m\u001b[0m\u001b[0;34m\u001b[0m\u001b[0m\n\u001b[0;32m----> 5\u001b[0;31m         \u001b[0;32mraise\u001b[0m \u001b[0mValueError\u001b[0m \u001b[0;34m(\u001b[0m\u001b[0;34m'Macierz nie jest kwadratowa'\u001b[0m\u001b[0;34m)\u001b[0m\u001b[0;34m\u001b[0m\u001b[0;34m\u001b[0m\u001b[0m\n\u001b[0m\u001b[1;32m      6\u001b[0m     \u001b[0mtrace\u001b[0m \u001b[0;34m=\u001b[0m \u001b[0;36m0.0\u001b[0m\u001b[0;34m\u001b[0m\u001b[0;34m\u001b[0m\u001b[0m\n\u001b[1;32m      7\u001b[0m     \u001b[0;32mfor\u001b[0m \u001b[0mi\u001b[0m \u001b[0;32min\u001b[0m \u001b[0mrange\u001b[0m\u001b[0;34m(\u001b[0m\u001b[0mlen\u001b[0m\u001b[0;34m(\u001b[0m\u001b[0mA\u001b[0m\u001b[0;34m)\u001b[0m\u001b[0;34m)\u001b[0m\u001b[0;34m:\u001b[0m\u001b[0;34m\u001b[0m\u001b[0;34m\u001b[0m\u001b[0m\n",
      "\u001b[0;31mValueError\u001b[0m: Macierz nie jest kwadratowa"
     ]
    }
   ],
   "source": [
    "trace([[1,2,3], [1, 0, 1]])"
   ]
  },
  {
   "cell_type": "code",
   "execution_count": 4,
   "id": "individual-wages",
   "metadata": {},
   "outputs": [],
   "source": [
    "assert(trace([[1,2,3], [1, 0, 1], [0, 0, 10]])) == 11"
   ]
  },
  {
   "cell_type": "code",
   "execution_count": 5,
   "id": "lined-trinity",
   "metadata": {},
   "outputs": [],
   "source": [
    "def transpose(A):\n",
    "    A = [[A[j][i] for j in range(len(A))] for i in range(len(A[0]))]\n",
    "    return A"
   ]
  },
  {
   "cell_type": "code",
   "execution_count": 6,
   "id": "narrow-serum",
   "metadata": {},
   "outputs": [],
   "source": [
    "assert(transpose([[1,1,0], [2, 0, 0], [3, 1, 10]])) == [[1,2,3], [1, 0, 1], [0, 0, 10]]"
   ]
  },
  {
   "cell_type": "code",
   "execution_count": 7,
   "id": "compound-victory",
   "metadata": {},
   "outputs": [
    {
     "data": {
      "text/plain": [
       "[[1, 2, 3], [1, 0, 1], [0, 0, 10]]"
      ]
     },
     "execution_count": 7,
     "metadata": {},
     "output_type": "execute_result"
    }
   ],
   "source": [
    "transpose([[1,1,0], [2, 0, 0], [3, 1, 10]])"
   ]
  },
  {
   "cell_type": "code",
   "execution_count": 8,
   "id": "owned-vatican",
   "metadata": {},
   "outputs": [
    {
     "data": {
      "text/plain": [
       "[[1, 2], [1, 0], [0, 0]]"
      ]
     },
     "execution_count": 8,
     "metadata": {},
     "output_type": "execute_result"
    }
   ],
   "source": [
    "transpose([[1,1,0], [2, 0, 0]])"
   ]
  },
  {
   "cell_type": "code",
   "execution_count": 9,
   "id": "aggregate-faith",
   "metadata": {},
   "outputs": [],
   "source": [
    "l = [1,2,3]"
   ]
  },
  {
   "cell_type": "code",
   "execution_count": 10,
   "id": "moved-alignment",
   "metadata": {},
   "outputs": [],
   "source": [
    "l = [sum(l) for i in range(len(l))]"
   ]
  },
  {
   "cell_type": "code",
   "execution_count": 11,
   "id": "finished-model",
   "metadata": {},
   "outputs": [
    {
     "name": "stdout",
     "output_type": "stream",
     "text": [
      "[6, 6, 6]\n"
     ]
    }
   ],
   "source": [
    "print(l)"
   ]
  },
  {
   "cell_type": "code",
   "execution_count": 12,
   "id": "departmental-museum",
   "metadata": {},
   "outputs": [],
   "source": [
    "def transpose_(A):\n",
    "    print(A)\n",
    "    for i in range(len(A)):\n",
    "        for j in range(i + 1, len(A[0])):\n",
    "            A[i][j], A[j][i] = A[j][i], A[i][j]\n",
    "            print(A)\n",
    "    return A"
   ]
  },
  {
   "cell_type": "code",
   "execution_count": 13,
   "id": "forbidden-sustainability",
   "metadata": {},
   "outputs": [
    {
     "name": "stdout",
     "output_type": "stream",
     "text": [
      "[[1, 1, 0], [2, 0, 0], [3, 1, 10]]\n",
      "[[1, 2, 0], [1, 0, 0], [3, 1, 10]]\n",
      "[[1, 2, 3], [1, 0, 0], [0, 1, 10]]\n",
      "[[1, 2, 3], [1, 0, 1], [0, 0, 10]]\n"
     ]
    },
    {
     "data": {
      "text/plain": [
       "[[1, 2, 3], [1, 0, 1], [0, 0, 10]]"
      ]
     },
     "execution_count": 13,
     "metadata": {},
     "output_type": "execute_result"
    }
   ],
   "source": [
    "transpose_([[1,1,0], [2, 0, 0], [3, 1, 10]])"
   ]
  },
  {
   "cell_type": "code",
   "execution_count": 14,
   "id": "excessive-healing",
   "metadata": {},
   "outputs": [],
   "source": [
    "def NWD_power_of_2(a, b):\n",
    "    temp = 0\n",
    "    while b%2 == 0:\n",
    "        b /= 2\n",
    "        temp += 1\n",
    "    return 2**temp"
   ]
  },
  {
   "cell_type": "code",
   "execution_count": 15,
   "id": "regional-things",
   "metadata": {},
   "outputs": [
    {
     "data": {
      "text/plain": [
       "512"
      ]
     },
     "execution_count": 15,
     "metadata": {},
     "output_type": "execute_result"
    }
   ],
   "source": [
    "NWD_power_of_2(1024, 512)"
   ]
  },
  {
   "cell_type": "code",
   "execution_count": 16,
   "id": "valid-brisbane",
   "metadata": {},
   "outputs": [
    {
     "data": {
      "text/plain": [
       "16"
      ]
     },
     "execution_count": 16,
     "metadata": {},
     "output_type": "execute_result"
    }
   ],
   "source": [
    "NWD_power_of_2(1024, 48)"
   ]
  },
  {
   "cell_type": "code",
   "execution_count": 17,
   "id": "accredited-photographer",
   "metadata": {},
   "outputs": [],
   "source": [
    "def binary_search_rec(arr, low_index, high_index, x):\n",
    "    if low_index == high_index and x!=arr[low_index]:\n",
    "        print('Nie ma takiego elementu w liście')\n",
    "        return None\n",
    "    temp = (low_index + high_index)//2\n",
    "    if x == arr[temp]:\n",
    "        return temp\n",
    "    elif x < arr[temp]:\n",
    "        return binary_search_rec(arr, low_index, temp - 1, x)\n",
    "    else:\n",
    "        return binary_search_rec(arr, temp + 1, high_index, x)"
   ]
  },
  {
   "cell_type": "code",
   "execution_count": 18,
   "id": "challenging-triple",
   "metadata": {},
   "outputs": [
    {
     "name": "stdout",
     "output_type": "stream",
     "text": [
      "Nie ma takiego elementu w liście\n",
      "None\n"
     ]
    }
   ],
   "source": [
    "print(binary_search_rec([1,2,6,15,20], 0, 4, 16))"
   ]
  },
  {
   "cell_type": "markdown",
   "id": "massive-society",
   "metadata": {},
   "source": [
    "Znalezienie elementu w liście występującego k razy."
   ]
  },
  {
   "cell_type": "code",
   "execution_count": 19,
   "id": "chubby-robinson",
   "metadata": {},
   "outputs": [],
   "source": [
    "def occur_k_times_1(arr, k):\n",
    "    count = 1\n",
    "    for i in range(len(arr)):\n",
    "        count = 1\n",
    "        for j in range(i + 1, len(arr)):\n",
    "            if i == j:\n",
    "                continue\n",
    "            if arr[i] == arr[j]:\n",
    "                count += 1\n",
    "        if count == k:\n",
    "            #print(arr[i])\n",
    "            return arr[i]\n",
    "    print('Nie ma takiego elementu')\n",
    "    return -1"
   ]
  },
  {
   "cell_type": "code",
   "execution_count": 20,
   "id": "athletic-sheet",
   "metadata": {},
   "outputs": [
    {
     "name": "stdout",
     "output_type": "stream",
     "text": [
      "7\n"
     ]
    }
   ],
   "source": [
    "print(occur_k_times_1([1, 7, 4, 3, 4, 8, 7], 2))"
   ]
  },
  {
   "cell_type": "code",
   "execution_count": 21,
   "id": "brave-utilization",
   "metadata": {},
   "outputs": [],
   "source": [
    "def occur_k_times_2(arr, k):\n",
    "    dic = dict() # tworzymy pusty słownik\n",
    "    for el in arr:\n",
    "        if dic.get(el) is not None: #dic[el]\n",
    "            dic[el] += 1\n",
    "        else:\n",
    "            dic[el] = 1\n",
    "    for key, item in dic.items():\n",
    "        if item == k:\n",
    "            #print(key)\n",
    "            return key\n",
    "    print('Nie ma takiego elementu')\n",
    "    return -1"
   ]
  },
  {
   "cell_type": "code",
   "execution_count": 22,
   "id": "spiritual-database",
   "metadata": {},
   "outputs": [
    {
     "name": "stdout",
     "output_type": "stream",
     "text": [
      "7\n"
     ]
    }
   ],
   "source": [
    "print(occur_k_times_2([1, 7, 4, 3, 4, 8, 7], 2))"
   ]
  },
  {
   "cell_type": "markdown",
   "id": "powered-diamond",
   "metadata": {},
   "source": [
    "Znalezienie największego elementu w liście, który jest sumą 3 innych elementów z listy."
   ]
  },
  {
   "cell_type": "code",
   "execution_count": 23,
   "id": "continuing-provincial",
   "metadata": {},
   "outputs": [],
   "source": [
    "def FindLargest_1(arr):\n",
    "    n = len(arr)\n",
    "    found = False\n",
    "    arr.sort()\n",
    "    for i in range(n-1, -1, -1) :\n",
    "        for j in range(0, n) :\n",
    "            if (i == j) :\n",
    "                continue\n",
    "            for k in range(j + 1, n) :\n",
    "                if (i == k) :\n",
    "                    continue\n",
    "                for l in range(k+1, n) :\n",
    "                    if (i == l) :\n",
    "                        continue\n",
    "                    if (arr[i] == arr[j] + arr[k] + arr[l]):\n",
    "                        found = True\n",
    "                        return arr[i]\n",
    "    if (found == False):\n",
    "        print('Brak rozwiązania')\n",
    "        return -1"
   ]
  },
  {
   "cell_type": "code",
   "execution_count": 24,
   "id": "broadband-meter",
   "metadata": {},
   "outputs": [
    {
     "data": {
      "text/plain": [
       "12"
      ]
     },
     "execution_count": 24,
     "metadata": {},
     "output_type": "execute_result"
    }
   ],
   "source": [
    "FindLargest_1([0, 2, 3, 5, 7, 12])"
   ]
  },
  {
   "cell_type": "code",
   "execution_count": 25,
   "id": "willing-carnival",
   "metadata": {},
   "outputs": [],
   "source": [
    "# a, b, c, d in list\n",
    "# d = a + b + c\n",
    "# d - c = a + b\n",
    "def FindLargest_2(arr):\n",
    "    n = len(arr)\n",
    "    found = False\n",
    "    dic = dict()\n",
    "    for i in range(n - 1):\n",
    "        for j in range(i + 1, n):\n",
    "            dic[arr[i] + arr[j]] = (i, j)\n",
    "            \n",
    "    max_ = 0\n",
    "    for i in range(n - 1):\n",
    "        for j in range(i + 1, n):\n",
    "            diff = abs(arr[i] - arr[j])\n",
    "            if diff in dic.keys(): # O(1)\n",
    "                found = True\n",
    "                temp = dic[diff]\n",
    "                if temp[0] != i and temp[1] != j and temp[0] != j and temp[1] != i:\n",
    "                    max_ = max(max_, max(arr[i], arr[j]))\n",
    "    if found:               \n",
    "        return max_\n",
    "    else:\n",
    "        print('Brak rozwiązania')\n",
    "        return -1"
   ]
  },
  {
   "cell_type": "code",
   "execution_count": 26,
   "id": "choice-armor",
   "metadata": {},
   "outputs": [
    {
     "data": {
      "text/plain": [
       "12"
      ]
     },
     "execution_count": 26,
     "metadata": {},
     "output_type": "execute_result"
    }
   ],
   "source": [
    "FindLargest_2([0, 2, 3, 5, 7, 12 ])"
   ]
  },
  {
   "cell_type": "code",
   "execution_count": null,
   "id": "radio-excellence",
   "metadata": {},
   "outputs": [],
   "source": []
  },
  {
   "cell_type": "markdown",
   "id": "polar-employee",
   "metadata": {},
   "source": [
    "## ZADANIA\n",
    "\n",
    "1) Przeczytaj o liście jako strukturze danych (pojedyńczo i podwójnie wiązanej)\n",
    "\n",
    "2) Zadeklaruj słownik o conajmniej 10 elementach i przetestuj wszystkie metody dla słowników z Lab 1 (clear, copy, fromkeys, get, items, keys, pop ...)"
   ]
  },
  {
   "cell_type": "markdown",
   "id": "chicken-highway",
   "metadata": {},
   "source": [
    "3) Zaimplementuj sortowanie przez scalanie"
   ]
  },
  {
   "cell_type": "code",
   "execution_count": null,
   "id": "creative-storage",
   "metadata": {},
   "outputs": [],
   "source": [
    "def MergeSort(arr, p, r):\n",
    "    pass"
   ]
  },
  {
   "cell_type": "markdown",
   "id": "hispanic-diagram",
   "metadata": {},
   "source": [
    "4) Zaimplementuj sortowanie szybkie"
   ]
  },
  {
   "cell_type": "code",
   "execution_count": null,
   "id": "informative-clothing",
   "metadata": {},
   "outputs": [],
   "source": [
    "def QuickSort(arr, p, r):\n",
    "    pass"
   ]
  },
  {
   "cell_type": "markdown",
   "id": "strategic-affair",
   "metadata": {},
   "source": [
    "5) Napisz algorytm, który sprawdzi czy w liście znajduje się 6 elementów, których suma wynosi 0"
   ]
  },
  {
   "cell_type": "code",
   "execution_count": null,
   "id": "suffering-handy",
   "metadata": {},
   "outputs": [],
   "source": [
    "def six_to_zero(arr):\n",
    "    pass"
   ]
  },
  {
   "cell_type": "markdown",
   "id": "worth-default",
   "metadata": {},
   "source": [
    "6)* Zaimplementuj powyższy algorytm tak, aby działał w czasie $O(N^{3})$, gdzie $N$ to rozmiar listy."
   ]
  },
  {
   "cell_type": "code",
   "execution_count": null,
   "id": "collective-henry",
   "metadata": {},
   "outputs": [],
   "source": [
    "def six_to_zero_2(arr):\n",
    "    pass"
   ]
  },
  {
   "cell_type": "markdown",
   "id": "subject-sixth",
   "metadata": {},
   "source": [
    "7) Mając daną listę złożoną z samych 0 i 1 znajdź jej podlistę o maksymalnej długości w, której liczba zer i jedynek jest równa. Funkcja powinna zwracać maksymalną długość podlisty oraz wypisywać na wyjście indeksy listy, której elementy są w znalezionej podliście. W przypadku gdy nie ma takiej podlisty funkcja powinna zwrócić -1 oraz wypisywać na wyjście stosowną informację. <br>\n",
    "Poprzez podlistę rozumiemy fragment listy złożony z kolejnych elementów listy, np. dla listy = [1,2,5,8,9,10] jej podlistą może być [2,5,8,9], ale [2,9,10] już nie. "
   ]
  },
  {
   "cell_type": "code",
   "execution_count": null,
   "id": "introductory-corpus",
   "metadata": {},
   "outputs": [],
   "source": [
    "def max_subarray(arr):\n",
    "    pass"
   ]
  },
  {
   "cell_type": "code",
   "execution_count": null,
   "id": "activated-holder",
   "metadata": {},
   "outputs": [],
   "source": [
    "assert(max_subarray([1, 0, 1, 1, 1, 0, 0])) == 6\n",
    "assert(max_subarray([1, 1, 1, 1])) == -1\n",
    "assert(max_subaarray([0, 0, 1, 1, 0])) == 4"
   ]
  },
  {
   "cell_type": "markdown",
   "id": "national-school",
   "metadata": {},
   "source": [
    "8)* Zaimplementuj powyższy algorytm tak, aby działał w czasie $O(N)$, gdzie $N$ to rozmiar listy"
   ]
  },
  {
   "cell_type": "code",
   "execution_count": null,
   "id": "varied-timer",
   "metadata": {},
   "outputs": [],
   "source": []
  }
 ],
 "metadata": {
  "kernelspec": {
   "display_name": "Python 3",
   "language": "python",
   "name": "python3"
  },
  "language_info": {
   "codemirror_mode": {
    "name": "ipython",
    "version": 3
   },
   "file_extension": ".py",
   "mimetype": "text/x-python",
   "name": "python",
   "nbconvert_exporter": "python",
   "pygments_lexer": "ipython3",
   "version": "3.8.5"
  }
 },
 "nbformat": 4,
 "nbformat_minor": 5
}
