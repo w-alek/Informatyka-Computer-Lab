{
 "cells": [
  {
   "cell_type": "markdown",
   "id": "10af9451",
   "metadata": {},
   "source": [
    "## ZADANIA\n",
    "1) https://www.bigocheatsheet.com/ - sortowanie <br>\n",
    "2) Zapoznać się z wszystkimi algorytmami sortowania z wykładu (5 sortowań)<br>\n",
    "3) * Mając danych n punktów na płaszczyźnie znaleźć maksymalną liczbę punktów współliniowych. Wejściem funkcji jest lista o rozmiarze n taka, że points[i] = [x, y] to współrzędne punktu na płaszczyźnie, natomiast wyjściem maksymalna liczba punktów współliniowych, funkcja powinna również wypisywać współrzędne tych punktów."
   ]
  },
  {
   "cell_type": "code",
   "execution_count": 1,
   "id": "1c49c43a",
   "metadata": {},
   "outputs": [],
   "source": [
    "def maxPoints(points):\n",
    "    pass"
   ]
  },
  {
   "cell_type": "markdown",
   "id": "525d5f68",
   "metadata": {},
   "source": [
    "4) ** Zaimplementuj powyższy algorytm tak, żeby działał w czasie $O(n^{2})$ i używał maksymalnie $O(n)$ pamięci."
   ]
  },
  {
   "cell_type": "code",
   "execution_count": null,
   "id": "2e43603c",
   "metadata": {},
   "outputs": [],
   "source": []
  }
 ],
 "metadata": {
  "kernelspec": {
   "display_name": "Python 3",
   "language": "python",
   "name": "python3"
  },
  "language_info": {
   "codemirror_mode": {
    "name": "ipython",
    "version": 3
   },
   "file_extension": ".py",
   "mimetype": "text/x-python",
   "name": "python",
   "nbconvert_exporter": "python",
   "pygments_lexer": "ipython3",
   "version": "3.8.5"
  }
 },
 "nbformat": 4,
 "nbformat_minor": 5
}
