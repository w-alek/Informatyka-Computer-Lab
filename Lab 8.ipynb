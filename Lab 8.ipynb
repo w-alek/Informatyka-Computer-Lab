{
 "cells": [
  {
   "cell_type": "code",
   "execution_count": 1,
   "id": "approved-syracuse",
   "metadata": {},
   "outputs": [],
   "source": [
    "def MergeSort(arr):\n",
    "    if len(arr) <= 1:\n",
    "        return arr\n",
    "    mid = len(arr)//2\n",
    "    L = arr[:mid]\n",
    "    R = arr[mid:]\n",
    "\n",
    "    MergeSort(L)\n",
    "    MergeSort(R)\n",
    "    i = j = k = 0\n",
    "    while i < len(L) and j < len(R):\n",
    "        if L[i] < R[j]:\n",
    "            arr[k] = L[i]\n",
    "            i += 1\n",
    "        else:\n",
    "            arr[k] = R[j]\n",
    "            j += 1\n",
    "        k += 1\n",
    "\n",
    "    while i < len(L):\n",
    "        arr[k] = L[i]\n",
    "        i += 1\n",
    "        k += 1\n",
    "\n",
    "    while j < len(R):\n",
    "        arr[k] = R[j]\n",
    "        j += 1\n",
    "        k += 1"
   ]
  },
  {
   "cell_type": "code",
   "execution_count": 2,
   "id": "polished-hunger",
   "metadata": {},
   "outputs": [
    {
     "name": "stdout",
     "output_type": "stream",
     "text": [
      "[12, 11, 13, 5, 6, 7]\n"
     ]
    }
   ],
   "source": [
    "array = [12, 11, 13, 5, 6, 7]\n",
    "print(array)"
   ]
  },
  {
   "cell_type": "code",
   "execution_count": 3,
   "id": "unexpected-preparation",
   "metadata": {},
   "outputs": [],
   "source": [
    "MergeSort(array)"
   ]
  },
  {
   "cell_type": "code",
   "execution_count": 4,
   "id": "pharmaceutical-discount",
   "metadata": {},
   "outputs": [
    {
     "name": "stdout",
     "output_type": "stream",
     "text": [
      "[5, 6, 7, 11, 12, 13]\n"
     ]
    }
   ],
   "source": [
    "print(array)"
   ]
  },
  {
   "cell_type": "code",
   "execution_count": 5,
   "id": "oriented-stake",
   "metadata": {},
   "outputs": [],
   "source": [
    "def ZDAJE_ZDALNIE(A, p, n):\n",
    "    if p == n - 1:\n",
    "        return A[p]\n",
    "    q = ZDAJE_ZDALNIE(A, p + 1, n)\n",
    "    if A[p] <= q:\n",
    "        return A[p]\n",
    "    return q"
   ]
  },
  {
   "cell_type": "code",
   "execution_count": 6,
   "id": "based-investing",
   "metadata": {},
   "outputs": [
    {
     "data": {
      "text/plain": [
       "1"
      ]
     },
     "execution_count": 6,
     "metadata": {},
     "output_type": "execute_result"
    }
   ],
   "source": [
    "A = [1, 3, 10, 8, 5]\n",
    "ZDAJE_ZDALNIE(A, 0, len(A))"
   ]
  },
  {
   "cell_type": "code",
   "execution_count": 7,
   "id": "starting-activity",
   "metadata": {},
   "outputs": [],
   "source": [
    "def ZDAJE_ZDALNIE_iter(A, p, n):\n",
    "    if n == 1:\n",
    "        return A[p]\n",
    "    if p == n - 1:\n",
    "        return A[p]\n",
    "    min_ = min(A[p], A[p + 1])\n",
    "    for i in range(p + 1, n):\n",
    "        if min_ > A[i]:\n",
    "            min_ = A[i]\n",
    "    return min_"
   ]
  },
  {
   "cell_type": "code",
   "execution_count": 8,
   "id": "recognized-advantage",
   "metadata": {},
   "outputs": [
    {
     "data": {
      "text/plain": [
       "-100"
      ]
     },
     "execution_count": 8,
     "metadata": {},
     "output_type": "execute_result"
    }
   ],
   "source": [
    "A = [-11, -100]\n",
    "ZDAJE_ZDALNIE_iter(A, 1, len(A))"
   ]
  },
  {
   "cell_type": "code",
   "execution_count": 9,
   "id": "persistent-footage",
   "metadata": {},
   "outputs": [],
   "source": [
    "k = 0\n",
    "for i in range(1, 1000 + 1):\n",
    "    for j in range(i, 1000 + 1):\n",
    "        if i-j > 0:\n",
    "            print(\"Egzamin\")\n",
    "        else:\n",
    "            k = j\n",
    "    if i > k:\n",
    "        print(\"Egzamin\")"
   ]
  },
  {
   "cell_type": "code",
   "execution_count": null,
   "id": "loving-working",
   "metadata": {},
   "outputs": [],
   "source": []
  }
 ],
 "metadata": {
  "kernelspec": {
   "display_name": "Python 3",
   "language": "python",
   "name": "python3"
  },
  "language_info": {
   "codemirror_mode": {
    "name": "ipython",
    "version": 3
   },
   "file_extension": ".py",
   "mimetype": "text/x-python",
   "name": "python",
   "nbconvert_exporter": "python",
   "pygments_lexer": "ipython3",
   "version": "3.8.5"
  }
 },
 "nbformat": 4,
 "nbformat_minor": 5
}
