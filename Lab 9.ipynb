{
 "cells": [
  {
   "cell_type": "markdown",
   "id": "split-connectivity",
   "metadata": {},
   "source": [
    "## Znalezienie mediany z dwóch posortowanych tablicach"
   ]
  },
  {
   "cell_type": "markdown",
   "id": "embedded-fruit",
   "metadata": {},
   "source": [
    "Zadanie polega na znalezieniu mediany z dwóch posortowanych tablicach liczb całkowitych."
   ]
  },
  {
   "cell_type": "code",
   "execution_count": 1,
   "id": "recorded-sleeping",
   "metadata": {},
   "outputs": [],
   "source": [
    "def median(arr, n):\n",
    "    if n % 2:\n",
    "        return arr[n//2]\n",
    "    else:\n",
    "        return (arr[n//2] + arr[n//2 - 1])/2"
   ]
  },
  {
   "cell_type": "code",
   "execution_count": 2,
   "id": "british-poison",
   "metadata": {},
   "outputs": [],
   "source": [
    "arr1 = [1, 3, 4, 70]\n",
    "arr2 = [20, 40, 50, 90]"
   ]
  },
  {
   "cell_type": "code",
   "execution_count": 3,
   "id": "waiting-daniel",
   "metadata": {},
   "outputs": [
    {
     "name": "stdout",
     "output_type": "stream",
     "text": [
      "3.5\n"
     ]
    }
   ],
   "source": [
    "med1 = median(arr1, len(arr1))\n",
    "print(med1)"
   ]
  },
  {
   "cell_type": "code",
   "execution_count": 4,
   "id": "violent-harbor",
   "metadata": {},
   "outputs": [
    {
     "name": "stdout",
     "output_type": "stream",
     "text": [
      "45.0\n"
     ]
    }
   ],
   "source": [
    "med2 = median(arr2, len(arr2))\n",
    "print(med2)"
   ]
  },
  {
   "cell_type": "code",
   "execution_count": 5,
   "id": "biblical-literacy",
   "metadata": {},
   "outputs": [],
   "source": [
    "arr = [*arr1, *arr2]"
   ]
  },
  {
   "cell_type": "code",
   "execution_count": 6,
   "id": "illegal-restoration",
   "metadata": {},
   "outputs": [
    {
     "name": "stdout",
     "output_type": "stream",
     "text": [
      "[1, 3, 4, 70, 20, 40, 50, 90]\n"
     ]
    }
   ],
   "source": [
    "print(arr)\n",
    "arr.sort()"
   ]
  },
  {
   "cell_type": "code",
   "execution_count": 7,
   "id": "thrown-gibraltar",
   "metadata": {},
   "outputs": [
    {
     "name": "stdout",
     "output_type": "stream",
     "text": [
      "[1, 3, 4, 20, 40, 50, 70, 90]\n"
     ]
    }
   ],
   "source": [
    "print(arr)"
   ]
  },
  {
   "cell_type": "code",
   "execution_count": 8,
   "id": "confused-substitute",
   "metadata": {},
   "outputs": [
    {
     "name": "stdout",
     "output_type": "stream",
     "text": [
      "30.0\n"
     ]
    }
   ],
   "source": [
    "med3 = median(arr, len(arr))\n",
    "print(med3)"
   ]
  },
  {
   "cell_type": "code",
   "execution_count": 9,
   "id": "mechanical-deployment",
   "metadata": {},
   "outputs": [],
   "source": [
    "def med_0(arr1, arr2, n):\n",
    "    if n == 0:\n",
    "        return None\n",
    "    elif n == 1:\n",
    "        return (arr1[0] + arr2[0])/2\n",
    "    elif n == 2:\n",
    "        return (max(arr1[0], arr2[0]) + min(arr1[1], arr2[1])) / 2\n",
    "    else:\n",
    "        arr = [*arr1, *arr2]\n",
    "        arr.sort()\n",
    "        med = median(arr, 2*n)\n",
    "        return med"
   ]
  },
  {
   "cell_type": "code",
   "execution_count": 10,
   "id": "final-budget",
   "metadata": {},
   "outputs": [
    {
     "data": {
      "text/plain": [
       "30.0"
      ]
     },
     "execution_count": 10,
     "metadata": {},
     "output_type": "execute_result"
    }
   ],
   "source": [
    "med_0(arr1, arr2, len(arr1))"
   ]
  },
  {
   "cell_type": "code",
   "execution_count": 11,
   "id": "accurate-jungle",
   "metadata": {},
   "outputs": [],
   "source": [
    "def med_1(arr1, arr2, n):\n",
    "    if n == 0:\n",
    "        return None\n",
    "    elif n == 1:\n",
    "        return (arr1[0] + arr2[0])/2\n",
    "    elif n == 2:\n",
    "        return (max(arr1[0], arr2[0]) + min(arr1[1], arr2[1])) / 2\n",
    "    else:\n",
    "        arr = []\n",
    "        i = j = 0\n",
    "        while i < len(arr1) and j < len(arr2):\n",
    "            if arr1[i] < arr2[j]:\n",
    "                arr.append(arr1[i])\n",
    "                i += 1\n",
    "            else:\n",
    "                arr.append(arr2[j])\n",
    "                j += 1\n",
    "\n",
    "        while i < len(arr1):\n",
    "            arr.append(arr1[i])\n",
    "            i += 1\n",
    "\n",
    "        while j < len(arr2):\n",
    "            arr.append(arr2[j])\n",
    "            j += 1\n",
    "\n",
    "        med = median(arr, 2*n)\n",
    "        return med"
   ]
  },
  {
   "cell_type": "code",
   "execution_count": 12,
   "id": "european-senior",
   "metadata": {},
   "outputs": [
    {
     "data": {
      "text/plain": [
       "30.0"
      ]
     },
     "execution_count": 12,
     "metadata": {},
     "output_type": "execute_result"
    }
   ],
   "source": [
    "med_1(arr1, arr2, len(arr1))"
   ]
  },
  {
   "cell_type": "code",
   "execution_count": 13,
   "id": "editorial-fraud",
   "metadata": {},
   "outputs": [],
   "source": [
    "def med_2(arr1, arr2, n):\n",
    "    if n == 0:\n",
    "        return None\n",
    "    elif n == 1:\n",
    "        return (arr1[0] + arr2[0])/2\n",
    "    elif n == 2:\n",
    "        return (max(arr1[0], arr2[0]) + min(arr1[1], arr2[1])) / 2\n",
    "    else:\n",
    "        med1 = median(arr1, n)\n",
    "        med2 = median(arr2, n)\n",
    "\n",
    "        if med1 > med2:\n",
    "            if n % 2 == 0:\n",
    "                return med_2(arr1[:n//2 + 1], arr2[n//2 - 1:], n//2 + 1)\n",
    "            else:\n",
    "                return med_2(arr1[:n//2 + 1], arr2[n//2:], n//2 + 1)\n",
    "        else:\n",
    "            if n % 2 == 0:\n",
    "                return med_2(arr1[n//2 - 1:], arr2[:n//2 + 1], n//2 + 1)\n",
    "            else:\n",
    "                return med_2(arr1[n//2:], arr2[:n//2 + 1], n//2 + 1)"
   ]
  },
  {
   "cell_type": "code",
   "execution_count": 14,
   "id": "dietary-worse",
   "metadata": {},
   "outputs": [
    {
     "data": {
      "text/plain": [
       "30.0"
      ]
     },
     "execution_count": 14,
     "metadata": {},
     "output_type": "execute_result"
    }
   ],
   "source": [
    "med_2(arr1, arr2, len(arr1))"
   ]
  },
  {
   "cell_type": "markdown",
   "id": "textile-deposit",
   "metadata": {},
   "source": [
    "## Potęgowanie modularne"
   ]
  },
  {
   "cell_type": "markdown",
   "id": "curious-embassy",
   "metadata": {},
   "source": [
    "Zadanie polega na obliczeniu $q^{n}$ mod a, gdzie q, n i a to liczby naturalne większe od 0."
   ]
  },
  {
   "cell_type": "code",
   "execution_count": 15,
   "id": "abstract-purchase",
   "metadata": {},
   "outputs": [],
   "source": [
    "def f_1(q, n, a):\n",
    "    return (q**n) % a"
   ]
  },
  {
   "cell_type": "code",
   "execution_count": 16,
   "id": "english-disaster",
   "metadata": {},
   "outputs": [
    {
     "data": {
      "text/plain": [
       "505"
      ]
     },
     "execution_count": 16,
     "metadata": {},
     "output_type": "execute_result"
    }
   ],
   "source": [
    "f_1(12312, 100, 917)"
   ]
  },
  {
   "cell_type": "code",
   "execution_count": 17,
   "id": "future-tooth",
   "metadata": {},
   "outputs": [],
   "source": [
    "def f_2(q, n, a):\n",
    "    res = q\n",
    "    res = res % a\n",
    "    temp = 1\n",
    "    while n > 1:\n",
    "        if n % 2 == 0:\n",
    "            n = n//2\n",
    "            res = (res**2) % a\n",
    "        else:\n",
    "            n = n - 1\n",
    "            temp = (temp * res) % a\n",
    "\n",
    "    res = (res * temp) % a\n",
    "    return res"
   ]
  },
  {
   "cell_type": "code",
   "execution_count": 18,
   "id": "derived-music",
   "metadata": {},
   "outputs": [
    {
     "data": {
      "text/plain": [
       "505"
      ]
     },
     "execution_count": 18,
     "metadata": {},
     "output_type": "execute_result"
    }
   ],
   "source": [
    "f_2(12312, 100, 917)"
   ]
  },
  {
   "cell_type": "markdown",
   "id": "selected-costa",
   "metadata": {},
   "source": [
    "## ZADANIA"
   ]
  },
  {
   "cell_type": "markdown",
   "id": "fresh-university",
   "metadata": {},
   "source": [
    "1) Zmodyfikuj kod z zadania o znajdowaniu median (dla wszystkich algorytmów o, których mówiliśmy) tym razem licząc medianę harmoniczną"
   ]
  },
  {
   "cell_type": "code",
   "execution_count": 19,
   "id": "active-loading",
   "metadata": {},
   "outputs": [],
   "source": [
    "def median_modification(arr, n):\n",
    "    if n % 2:\n",
    "        return 1/arr[n//2]\n",
    "    else:\n",
    "        return 2 * (1/arr[n//2] + 1/arr[n//2 - 1])"
   ]
  },
  {
   "cell_type": "markdown",
   "id": "accredited-tolerance",
   "metadata": {},
   "source": [
    "2) Zaimplementuj funkcję, która sprawdzi czy podana liczba jest podzielna przez 3. W funkcji nie wolno używać operatorów jak % czy /, tylko wykorzystać własności podzielności. Ponadto funkcja nie powinna być podatna na podanie bardzo dużych liczb"
   ]
  },
  {
   "cell_type": "code",
   "execution_count": 20,
   "id": "electoral-scoop",
   "metadata": {},
   "outputs": [],
   "source": [
    "def divisible_3(n):\n",
    "    pass"
   ]
  },
  {
   "cell_type": "markdown",
   "id": "unavailable-healing",
   "metadata": {},
   "source": [
    "3) Znajdź największy wykładnik a liczby pierwszej p tak, że $p^{a}$ dzieli n!"
   ]
  },
  {
   "cell_type": "code",
   "execution_count": 21,
   "id": "light-johnston",
   "metadata": {},
   "outputs": [],
   "source": [
    "def power_of_factorial(n, p):\n",
    "    pass"
   ]
  },
  {
   "cell_type": "markdown",
   "id": "micro-elder",
   "metadata": {},
   "source": [
    "4) * Spróbuj zaimplemenotować powyższy algorytm, który będzie działał w czasie co najwyżej O(logn)"
   ]
  },
  {
   "cell_type": "code",
   "execution_count": null,
   "id": "finite-identity",
   "metadata": {},
   "outputs": [],
   "source": []
  }
 ],
 "metadata": {
  "kernelspec": {
   "display_name": "Python 3",
   "language": "python",
   "name": "python3"
  },
  "language_info": {
   "codemirror_mode": {
    "name": "ipython",
    "version": 3
   },
   "file_extension": ".py",
   "mimetype": "text/x-python",
   "name": "python",
   "nbconvert_exporter": "python",
   "pygments_lexer": "ipython3",
   "version": "3.8.5"
  }
 },
 "nbformat": 4,
 "nbformat_minor": 5
}
