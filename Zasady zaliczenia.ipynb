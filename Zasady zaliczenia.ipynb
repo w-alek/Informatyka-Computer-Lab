{
 "cells": [
  {
   "cell_type": "markdown",
   "id": "steady-pursuit",
   "metadata": {},
   "source": [
    "# Zasady zaliczenia przedmiotu\n",
    "\n",
    "## Cel przedmiotu\n",
    "- Zaznajomienie z podstawami programowania w języku Python\n",
    "- Nauka pisania efektywnego kodu\n",
    "- Zapoznanie z podstawami projektowania algorytmów oraz technik programistycznych\n",
    "- Implementacja algorytmów przedstawionych na wykładzie i ich modyfikacje\n",
    "- Wprowadzenie do efektywnego projektowania algorytmów poprzez analizę złożoności czasowej\n",
    "\n",
    "## Obecność na zajęciach\n",
    "Dopuszczalna liczba opuszczonych godzin, w tym godzin usprawiedliwionych wynosi 10\n",
    "\n",
    "## Wymagania\n",
    "- Materiał wyłożony na wykładzie obowiązuje na ćwiczeniach, w szczególności w trakcie ćwiczeń nie będzie tłumaczony materiał z wykładu - wszystkie wątpliwości dotyczące materiału należy zgłaszać na bieżąco w trakcie trwania wykładu, dotyczy to w szczególności zrozumienia wykładanych algorytmów,\n",
    "- Umiejętność implementacji algorytmów z poprzednich ćwiczeń."
   ]
  },
  {
   "cell_type": "markdown",
   "id": "federal-background",
   "metadata": {},
   "source": [
    "# Zasady oceniania\n",
    "## Ocena z laboratorium\n",
    "Ocena z laboratorium będzie opierać się na aktywności, cotygodniowych zadaniach domowych oraz końcowym kolokwium.\n",
    "$$M = A + T - W,$$\n",
    "$M$ - ocena końcowa <br>\n",
    "$A$ - punkty za aktywność <br>\n",
    "$T$ - punkty za kolokwium <br>\n",
    "$W$ - ilość nienadesłanych lub źle rozwiązanych zadań $ \\cdot \\frac{1}{2}$\n",
    "\n",
    "Ocena końcowa:\n",
    "- ($- \\infty$, 8) pkt: 2\n",
    "- [8, 9.5) pkt: 3\n",
    "- [9.5, 11) pkt: 3,5\n",
    "- [11, 12.5) pkt: 4\n",
    "- [12.5, 14) pkt: 4,5\n",
    "- [14, $\\infty$ (16) ) pkt: 5\n",
    "\n",
    "## Aktywność (A)\n",
    "Aktywność na zajęciach będzie miała największy wpływ na ocenę z zaliczenia. Można uzyskać maksymalnie 1 punkt za każde zajęcia.\n",
    "\n",
    "## Kolokwium (T)\n",
    "Pod koniec semestru będzie kolokwium składające się z 4 zadań. Za kolokwium mozna uzyskać maksymalnie 10 punktów. Kolokwium nie jest obowiązkowe w przypadku, gdy w dniu poprzedzającym kolokwium student zgromadził conajmniej 8 punktów.\n",
    "\n",
    "## Prace domowe (W)\n",
    "W trakcie każdych zajęć studenci otrzymają do rozwiązania 2-4 zadania. Każde zadanie będzie podlegało ocenie. Rozwiązania zadań należy wysłać prowadzącemu w przeciągu tygodnia, do godziny 23:59 w dniu poprzedzającym kolejne zajęcia. Rozwiązania zadań muszą spełniać następujące kryteria:\n",
    "- kod musi być czytelny,\n",
    "- kod musi być przetestowany i poprawnie działać,\n",
    "- rozwiązanie musi zostać wysłane w terminie,\n",
    "- na następnych zajęciach student może być poproszony o przedstawienie fragmentu lub całości rozwiązania i wytłumaczenie działania kodu.\n",
    "\n",
    "Za wykonanie zadania można stracić 0 lub 0.5 punktu. <br>\n",
    "Okazjonalnie będą pojawiać się również zadania za, które będzie można uzyskać dodatkowe punkty."
   ]
  },
  {
   "cell_type": "markdown",
   "id": "polished-position",
   "metadata": {},
   "source": [
    "# Samodzielna praca\n",
    "Celem przedmiotu jest przede wszystkim zapoznanie studentów z podstawami projektowania algorytmów. W związku z tym zachęcam do:\n",
    "\n",
    "- aktywnego uczestnictwa w zajęciach,\n",
    "- korzystania z wyznaczonych terminów konsultacji,\n",
    "- dyskutowania między sobą na temat wykładów i ćwiczeń <br>\n",
    "Jednakże, aby ocena z przedmiotu wystawiona została sprawiedliwie, część pracy musi zostać wykonana samodzielnie przez studenta. Aby uniknąć niepotrzebnych nieporozumień, proszę bardzo dokładnie zapoznać się z poniższymi zasadami.\n",
    "\n",
    "\n",
    "1. Dyskusja na temat zadawanych zadań może dotyczyć jedynie bardzo ogólnej postaci algorytmu. Proszę w miarę możliwości zadawać pytania dotyczące zadań na ćwiczeniach oraz mailowo do mnie.\n",
    "\n",
    "2. Niedozwolone jest:\n",
    "- udostępnianie innym studentom rozwiązania zadania w formie szczegółowego (krok po kroku) opisu algorytmu lub kodu,\n",
    "- posługiwanie się notatkami w trakcie trwania kolokwium.\n",
    "Każdy student, który stwierdzi naruszenie powyższych zasad, ma obowiązek poinformować o tym koordynatora przedmiotu.\n",
    "\n",
    "W zależności od skali przewinienia kary za złamanie powyższych zasad to:\n",
    "\n",
    "- bezwarunkowe obniżenie oceny końcowej z przedmiotu,\n",
    "- bezwarunkowe NZAL z całego przedmiotu,\n",
    "- postępowanie dyscyplinarne."
   ]
  }
 ],
 "metadata": {
  "kernelspec": {
   "display_name": "Python 3",
   "language": "python",
   "name": "python3"
  },
  "language_info": {
   "codemirror_mode": {
    "name": "ipython",
    "version": 3
   },
   "file_extension": ".py",
   "mimetype": "text/x-python",
   "name": "python",
   "nbconvert_exporter": "python",
   "pygments_lexer": "ipython3",
   "version": "3.8.5"
  }
 },
 "nbformat": 4,
 "nbformat_minor": 5
}
