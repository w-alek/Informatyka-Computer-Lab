{
 "cells": [
  {
   "cell_type": "code",
   "execution_count": 1,
   "id": "split-smell",
   "metadata": {},
   "outputs": [],
   "source": [
    "import math\n",
    "def quadratic(a, b, c):\n",
    "    if a == 0:\n",
    "        print('Funkcja Liniowa')\n",
    "        print('Rozwiązanie =', -c/b)\n",
    "    else:\n",
    "        delta = b**2 - 4*a*c\n",
    "        if delta < 0:\n",
    "            print('Brak rozwiązań')\n",
    "        elif delta == 0:\n",
    "            print('Rozwiązanie =', b/(2*a))\n",
    "        else:\n",
    "            delta_sqrt = math.sqrt(delta)\n",
    "            x1 = (-b + delta_sqrt)/(2*a)\n",
    "            x2 = (-b - delta_sqrt)/(2*a)\n",
    "            print('Dwa rozwiązania', x1, x2)"
   ]
  },
  {
   "cell_type": "code",
   "execution_count": 2,
   "id": "binding-monster",
   "metadata": {},
   "outputs": [
    {
     "name": "stdout",
     "output_type": "stream",
     "text": [
      "Rozwiązanie = 1.0\n"
     ]
    }
   ],
   "source": [
    "quadratic(1,2,1)"
   ]
  },
  {
   "cell_type": "code",
   "execution_count": 3,
   "id": "needed-shock",
   "metadata": {},
   "outputs": [
    {
     "name": "stdout",
     "output_type": "stream",
     "text": [
      "Brak rozwiązań\n"
     ]
    }
   ],
   "source": [
    "quadratic(1,1,1)"
   ]
  },
  {
   "cell_type": "code",
   "execution_count": 4,
   "id": "objective-anime",
   "metadata": {},
   "outputs": [
    {
     "name": "stdout",
     "output_type": "stream",
     "text": [
      "Dwa rozwiązania 0.6666666666666666 -1.0\n"
     ]
    }
   ],
   "source": [
    "quadratic(3,1,-2)"
   ]
  },
  {
   "cell_type": "code",
   "execution_count": 5,
   "id": "roman-sharing",
   "metadata": {},
   "outputs": [],
   "source": [
    "def abs_(x):  # abs \n",
    "    if x >= 0:\n",
    "        return x\n",
    "    else:\n",
    "        return -x"
   ]
  },
  {
   "cell_type": "code",
   "execution_count": 6,
   "id": "documented-israel",
   "metadata": {},
   "outputs": [],
   "source": [
    "def sqrt(x, eps = 1e-5):\n",
    "    if x < 0:\n",
    "        print('Pierwiastek z liczby ujemnej')\n",
    "        return None\n",
    "    elif x == 0:\n",
    "        return 0\n",
    "    elif x < 1:\n",
    "        a, b = find_form(x)\n",
    "        return sqrt(a, eps)/sqrt(b, eps)\n",
    "    else:\n",
    "        guess = x/2\n",
    "        max_guess = x\n",
    "        min_guess = 1\n",
    "        # Szukamy pierwiastka w przedziale [1, x]\n",
    "        while True:\n",
    "           # print(guess)\n",
    "            if abs_(guess**2 - x) <= eps:\n",
    "                return guess\n",
    "            elif guess**2 > x:\n",
    "                max_guess = guess\n",
    "                guess = (guess + min_guess)/2\n",
    "                # 1,....,x,.... guess**2\n",
    "            else: # guess**2 < x\n",
    "                min_guess = guess\n",
    "                guess = (guess + max_guess)/2\n",
    "                # 1,....,guess**2, ...,x"
   ]
  },
  {
   "cell_type": "code",
   "execution_count": 7,
   "id": "forbidden-desperate",
   "metadata": {},
   "outputs": [],
   "source": [
    "def find_form(x):\n",
    "    count = 0\n",
    "    while x != int(x):\n",
    "        x = x * 10\n",
    "        count += 1\n",
    "    return int(x), 10**count"
   ]
  },
  {
   "cell_type": "code",
   "execution_count": 8,
   "id": "marked-webmaster",
   "metadata": {},
   "outputs": [
    {
     "data": {
      "text/plain": [
       "(128382, 1000000)"
      ]
     },
     "execution_count": 8,
     "metadata": {},
     "output_type": "execute_result"
    }
   ],
   "source": [
    "find_form(0.128382)"
   ]
  },
  {
   "cell_type": "code",
   "execution_count": 9,
   "id": "assumed-acceptance",
   "metadata": {},
   "outputs": [
    {
     "data": {
      "text/plain": [
       "3.8729833461948147"
      ]
     },
     "execution_count": 9,
     "metadata": {},
     "output_type": "execute_result"
    }
   ],
   "source": [
    "sqrt(15, 1e-10)"
   ]
  },
  {
   "cell_type": "code",
   "execution_count": 10,
   "id": "cooked-behavior",
   "metadata": {},
   "outputs": [
    {
     "data": {
      "text/plain": [
       "3.872983346207417"
      ]
     },
     "execution_count": 10,
     "metadata": {},
     "output_type": "execute_result"
    }
   ],
   "source": [
    "math.sqrt(15)"
   ]
  },
  {
   "cell_type": "code",
   "execution_count": 11,
   "id": "single-genome",
   "metadata": {},
   "outputs": [],
   "source": [
    "def quadratic_ver2(a, b, c):\n",
    "    if a == 0:\n",
    "        print('Funkcja Liniowa')\n",
    "        print('Rozwiązanie =', -c/b)\n",
    "    else:\n",
    "        delta = b**2 - 4*a*c\n",
    "        if delta < 0:\n",
    "            print('Brak rozwiązań')\n",
    "        elif delta == 0:\n",
    "            print('Rozwiązanie =', b/(2*a))\n",
    "        else:\n",
    "            delta_sqrt = sqrt(delta)\n",
    "            x1 = (-b + delta_sqrt)/(2*a)\n",
    "            x2 = (-b - delta_sqrt)/(2*a)\n",
    "            print('Dwa rozwiązania', x1, x2)"
   ]
  },
  {
   "cell_type": "code",
   "execution_count": 12,
   "id": "instant-grocery",
   "metadata": {},
   "outputs": [
    {
     "name": "stdout",
     "output_type": "stream",
     "text": [
      "Dwa rozwiązania 0.6666665077209473 -0.9999998410542806\n"
     ]
    }
   ],
   "source": [
    "quadratic_ver2(3,1,-2)"
   ]
  },
  {
   "cell_type": "code",
   "execution_count": 13,
   "id": "referenced-syndrome",
   "metadata": {},
   "outputs": [
    {
     "name": "stdout",
     "output_type": "stream",
     "text": [
      "[False, True, False, True, False, True, False, True, False, True]\n",
      "[0, 1, 2, 3, 4, 5, 6, 7, 8, 9]\n"
     ]
    },
    {
     "ename": "IndexError",
     "evalue": "list index out of range",
     "output_type": "error",
     "traceback": [
      "\u001b[0;31m---------------------------------------------------------------------------\u001b[0m",
      "\u001b[0;31mIndexError\u001b[0m                                Traceback (most recent call last)",
      "\u001b[0;32m<ipython-input-13-b049caf8a353>\u001b[0m in \u001b[0;36m<module>\u001b[0;34m\u001b[0m\n\u001b[1;32m      4\u001b[0m \u001b[0mprint\u001b[0m\u001b[0;34m(\u001b[0m\u001b[0mnumbers\u001b[0m\u001b[0;34m)\u001b[0m\u001b[0;34m\u001b[0m\u001b[0;34m\u001b[0m\u001b[0m\n\u001b[1;32m      5\u001b[0m \u001b[0;32mfor\u001b[0m \u001b[0mi\u001b[0m \u001b[0;32min\u001b[0m \u001b[0mrange\u001b[0m\u001b[0;34m(\u001b[0m\u001b[0mlen\u001b[0m\u001b[0;34m(\u001b[0m\u001b[0mnumbers\u001b[0m\u001b[0;34m)\u001b[0m\u001b[0;34m)\u001b[0m\u001b[0;34m:\u001b[0m\u001b[0;34m\u001b[0m\u001b[0;34m\u001b[0m\u001b[0m\n\u001b[0;32m----> 6\u001b[0;31m     \u001b[0;32mif\u001b[0m \u001b[0modd\u001b[0m\u001b[0;34m[\u001b[0m\u001b[0mnumbers\u001b[0m\u001b[0;34m[\u001b[0m\u001b[0mi\u001b[0m\u001b[0;34m]\u001b[0m\u001b[0;34m]\u001b[0m\u001b[0;34m:\u001b[0m\u001b[0;34m\u001b[0m\u001b[0;34m\u001b[0m\u001b[0m\n\u001b[0m\u001b[1;32m      7\u001b[0m         \u001b[0mnumbers\u001b[0m\u001b[0;34m.\u001b[0m\u001b[0mpop\u001b[0m\u001b[0;34m(\u001b[0m\u001b[0mi\u001b[0m\u001b[0;34m)\u001b[0m\u001b[0;34m\u001b[0m\u001b[0;34m\u001b[0m\u001b[0m\n",
      "\u001b[0;31mIndexError\u001b[0m: list index out of range"
     ]
    }
   ],
   "source": [
    "odd = [bool(i % 2) for i in range(10)]\n",
    "print(odd)\n",
    "numbers = [i for i in range(10)]\n",
    "print(numbers)\n",
    "for i in range(len(numbers)):\n",
    "    if odd[numbers[i]]:\n",
    "        numbers.pop(i)"
   ]
  },
  {
   "cell_type": "code",
   "execution_count": 14,
   "id": "african-niagara",
   "metadata": {},
   "outputs": [],
   "source": [
    "def g_1(n):\n",
    "    if n <= 2:\n",
    "        return 0, 0\n",
    "    count = 0\n",
    "    sum_ = 0\n",
    "    for i in range(2, n):\n",
    "        if n % i == 0:\n",
    "            count += 1\n",
    "            sum_ += i\n",
    "    return count, sum_"
   ]
  },
  {
   "cell_type": "code",
   "execution_count": 15,
   "id": "increased-reconstruction",
   "metadata": {},
   "outputs": [
    {
     "data": {
      "text/plain": [
       "(4, 21)"
      ]
     },
     "execution_count": 15,
     "metadata": {},
     "output_type": "execute_result"
    }
   ],
   "source": [
    "g_1(20)"
   ]
  },
  {
   "cell_type": "code",
   "execution_count": 16,
   "id": "parliamentary-federation",
   "metadata": {},
   "outputs": [],
   "source": [
    "# d - dzielnik n, n = d * a \n",
    "# n % d == 0 \n",
    "# n % a == 0\n",
    "def g_2(n):\n",
    "    if n <= 3:\n",
    "        return 0, 0\n",
    "    count = sum_ = 0\n",
    "    for i in range(2, int(math.sqrt(n)) + 1):\n",
    "        if n % i == 0:\n",
    "            count += 2\n",
    "            sum_ += i\n",
    "            sum_ += n//i\n",
    "    if math.sqrt(n) == int(math.sqrt(n)):\n",
    "        count -= 1\n",
    "        sum_ -= n//int(math.sqrt(n))\n",
    "    return count, sum_"
   ]
  },
  {
   "cell_type": "code",
   "execution_count": 17,
   "id": "current-china",
   "metadata": {},
   "outputs": [
    {
     "data": {
      "text/plain": [
       "(4, 21)"
      ]
     },
     "execution_count": 17,
     "metadata": {},
     "output_type": "execute_result"
    }
   ],
   "source": [
    "g_2(20)"
   ]
  },
  {
   "cell_type": "code",
   "execution_count": 18,
   "id": "continued-eleven",
   "metadata": {},
   "outputs": [
    {
     "data": {
      "text/plain": [
       "(3, 14)"
      ]
     },
     "execution_count": 18,
     "metadata": {},
     "output_type": "execute_result"
    }
   ],
   "source": [
    "g_2(16)"
   ]
  },
  {
   "cell_type": "markdown",
   "id": "tight-basics",
   "metadata": {},
   "source": [
    "## Rekursja"
   ]
  },
  {
   "cell_type": "markdown",
   "id": "alive-width",
   "metadata": {},
   "source": [
    "### Ciąg Fibonacciego"
   ]
  },
  {
   "cell_type": "code",
   "execution_count": 19,
   "id": "physical-danger",
   "metadata": {},
   "outputs": [],
   "source": [
    "def fib1(n):\n",
    "    if n == 0:\n",
    "        return 0\n",
    "    elif n == 1:\n",
    "        return 1\n",
    "    else:\n",
    "        return fib1(n-1) + fib1(n-2)"
   ]
  },
  {
   "cell_type": "code",
   "execution_count": 20,
   "id": "industrial-charity",
   "metadata": {},
   "outputs": [
    {
     "data": {
      "text/plain": [
       "9227465"
      ]
     },
     "execution_count": 20,
     "metadata": {},
     "output_type": "execute_result"
    }
   ],
   "source": [
    "fib1(35)"
   ]
  },
  {
   "attachments": {
    "image.png": {
     "image/png": "[encoded data removed]"
    }
   },
   "cell_type": "markdown",
   "id": "finite-cycle",
   "metadata": {},
   "source": [
    "![image.png](attachment:image.png)"
   ]
  },
  {
   "cell_type": "code",
   "execution_count": 21,
   "id": "boolean-supplement",
   "metadata": {},
   "outputs": [],
   "source": [
    "def fib2(n):\n",
    "    if n == 0:\n",
    "        return 0\n",
    "    if n == 1:\n",
    "        return 1\n",
    "    l = [0] * (n + 1)\n",
    "    l[1] = 1\n",
    "    if l[n] > 0:\n",
    "        return l[n - 1] + l[n - 2]\n",
    "    else:\n",
    "        return fib2(n - 1) + fib2(n - 2)"
   ]
  },
  {
   "cell_type": "code",
   "execution_count": 22,
   "id": "fixed-veteran",
   "metadata": {},
   "outputs": [
    {
     "data": {
      "text/plain": [
       "9227465"
      ]
     },
     "execution_count": 22,
     "metadata": {},
     "output_type": "execute_result"
    }
   ],
   "source": [
    "fib2(35)"
   ]
  },
  {
   "cell_type": "code",
   "execution_count": 23,
   "id": "round-finnish",
   "metadata": {},
   "outputs": [],
   "source": [
    "memo = {0:0, 1:1}\n",
    "def fibm(n):\n",
    "    if not n in memo:\n",
    "        memo[n] = fibm(n-1) + fibm(n-2)\n",
    "    return memo[n]"
   ]
  },
  {
   "cell_type": "code",
   "execution_count": 24,
   "id": "alive-middle",
   "metadata": {},
   "outputs": [
    {
     "data": {
      "text/plain": [
       "9227465"
      ]
     },
     "execution_count": 24,
     "metadata": {},
     "output_type": "execute_result"
    }
   ],
   "source": [
    "fibm(35)"
   ]
  },
  {
   "cell_type": "code",
   "execution_count": 25,
   "id": "south-purse",
   "metadata": {},
   "outputs": [],
   "source": [
    "def fibi(n):\n",
    "    old, new = 0, 1\n",
    "    if n == 0:\n",
    "        return 0\n",
    "    for i in range(n-1):\n",
    "        old, new = new, old + new\n",
    "    return new"
   ]
  },
  {
   "cell_type": "code",
   "execution_count": 26,
   "id": "aboriginal-teacher",
   "metadata": {},
   "outputs": [
    {
     "data": {
      "text/plain": [
       "9227465"
      ]
     },
     "execution_count": 26,
     "metadata": {},
     "output_type": "execute_result"
    }
   ],
   "source": [
    "fibi(35)"
   ]
  },
  {
   "cell_type": "markdown",
   "id": "innocent-terrorism",
   "metadata": {},
   "source": [
    "### Odwrócenie listy"
   ]
  },
  {
   "cell_type": "code",
   "execution_count": 27,
   "id": "addressed-import",
   "metadata": {},
   "outputs": [],
   "source": [
    "def reverse_list_iter(L: list, left: int, right: int) -> None:\n",
    "    \"\"\"\n",
    "    Reverse a list in place from left to right index\n",
    "    \n",
    "    Args:\n",
    "        L: List to reverse\n",
    "        left: left index\n",
    "        right: right index, included in reverse\n",
    "        \n",
    "    Raises:\n",
    "        AssertionError: Empty list or when left index is greater than right index\n",
    "        or when the indexes have opposite signs\n",
    "    \n",
    "    \"\"\"\n",
    "    assert L and left <= right and left * right >= 0, \"Can't reverse empty List or when left index > right index \"\\\n",
    "    \"or when the indexes have opposite signs\"\n",
    "    for i in range((right - left + 1)//2):\n",
    "        L[left + i], L[right - i] = L[right - i], L[left + i]"
   ]
  },
  {
   "cell_type": "code",
   "execution_count": 28,
   "id": "tired-departure",
   "metadata": {},
   "outputs": [
    {
     "name": "stdout",
     "output_type": "stream",
     "text": [
      "[45, 51, 46, 84, 82, 95, 42, 91, 35, 89]\n"
     ]
    }
   ],
   "source": [
    "import random\n",
    "random_list = random.sample(range(10, 100), 10)\n",
    "random_list_copy = random_list[:] # L.copy()\n",
    "print(random_list_copy)"
   ]
  },
  {
   "cell_type": "code",
   "execution_count": 29,
   "id": "quality-smile",
   "metadata": {},
   "outputs": [],
   "source": [
    "reverse_list_iter(random_list_copy, 2, 9)"
   ]
  },
  {
   "cell_type": "code",
   "execution_count": 30,
   "id": "intended-brother",
   "metadata": {},
   "outputs": [
    {
     "name": "stdout",
     "output_type": "stream",
     "text": [
      "[45, 51, 89, 35, 91, 42, 95, 82, 84, 46]\n"
     ]
    }
   ],
   "source": [
    "print(random_list_copy)"
   ]
  },
  {
   "cell_type": "code",
   "execution_count": 31,
   "id": "taken-plaza",
   "metadata": {},
   "outputs": [],
   "source": [
    "random_list_copy = random_list[:]\n",
    "reverse_list_iter(random_list_copy, -6, -3)"
   ]
  },
  {
   "cell_type": "code",
   "execution_count": 32,
   "id": "recorded-poverty",
   "metadata": {},
   "outputs": [
    {
     "name": "stdout",
     "output_type": "stream",
     "text": [
      "[45, 51, 46, 84, 91, 42, 95, 82, 35, 89]\n"
     ]
    }
   ],
   "source": [
    "print(random_list_copy)"
   ]
  },
  {
   "cell_type": "code",
   "execution_count": 33,
   "id": "focal-edwards",
   "metadata": {},
   "outputs": [],
   "source": [
    "def reverse_list_rec_1(L: list, left: int, right: int) -> None:\n",
    "    \"\"\"\n",
    "    Reverse a list in place (without additional memory) from left to right index\n",
    "    \n",
    "    Args:\n",
    "        L: List to reverse\n",
    "        left: left index\n",
    "        right: right index, included in reverse\n",
    "        \n",
    "    Raises:\n",
    "        AssertionError: Empty list or when left index is greater than right index\n",
    "        or when the indexes have opposite signs\n",
    "    \n",
    "    [1,2,3,4,5,6] left = 2, right = 5 -> [1,2,6,5,4,3]\n",
    "    \"\"\"\n",
    "    assert L and left <= right and left * right >= 0, \"Can't reverse empty List or when left index > right index \"\\\n",
    "    \"or when the indexes have opposite signs\"\n",
    "    if right - left <= 1:\n",
    "        L[left], L[right] = L[right], L[left]\n",
    "        return # stopping criterion\n",
    "    L[left], L[right] = L[right], L[left]\n",
    "    return reverse_list_rec_1(L, left + 1, right - 1)"
   ]
  },
  {
   "cell_type": "code",
   "execution_count": 34,
   "id": "charitable-lemon",
   "metadata": {},
   "outputs": [
    {
     "name": "stdout",
     "output_type": "stream",
     "text": [
      "[37, 36, 67, 21, 92, 22, 70, 27, 29, 14]\n"
     ]
    }
   ],
   "source": [
    "random_list = random.sample(range(10, 100), 10)\n",
    "random_list_copy = random_list[:]\n",
    "print(random_list_copy)"
   ]
  },
  {
   "cell_type": "code",
   "execution_count": 35,
   "id": "popular-contamination",
   "metadata": {},
   "outputs": [],
   "source": [
    "reverse_list_rec_1(random_list_copy, 1, 5)"
   ]
  },
  {
   "cell_type": "code",
   "execution_count": 36,
   "id": "stunning-session",
   "metadata": {},
   "outputs": [
    {
     "name": "stdout",
     "output_type": "stream",
     "text": [
      "[37, 22, 92, 21, 67, 36, 70, 27, 29, 14]\n"
     ]
    }
   ],
   "source": [
    "print(random_list_copy)"
   ]
  },
  {
   "cell_type": "code",
   "execution_count": 37,
   "id": "certain-reputation",
   "metadata": {},
   "outputs": [],
   "source": [
    "random_list_copy = random_list[:]\n",
    "reverse_list_rec_1(random_list_copy, 7, 8)"
   ]
  },
  {
   "cell_type": "code",
   "execution_count": 38,
   "id": "opponent-seventh",
   "metadata": {},
   "outputs": [
    {
     "name": "stdout",
     "output_type": "stream",
     "text": [
      "[37, 36, 67, 21, 92, 22, 70, 29, 27, 14]\n"
     ]
    }
   ],
   "source": [
    "print(random_list_copy)"
   ]
  },
  {
   "cell_type": "markdown",
   "id": "stock-supervisor",
   "metadata": {},
   "source": [
    "## Sortowanie"
   ]
  },
  {
   "cell_type": "code",
   "execution_count": 39,
   "id": "actual-treatment",
   "metadata": {},
   "outputs": [],
   "source": [
    "def insertionSort(arr):\n",
    "     for i in range(1, len(arr)):\n",
    "        key = arr[i]\n",
    "        j = i-1\n",
    "        while j >= 0 and key < arr[j] :\n",
    "                arr[j + 1] = arr[j]\n",
    "                j -= 1\n",
    "        arr[j + 1] = key"
   ]
  },
  {
   "attachments": {
    "image.png": {
     "image/png": "[encoded data removed]"
    }
   },
   "cell_type": "markdown",
   "id": "pleased-hamilton",
   "metadata": {},
   "source": [
    "![image.png](attachment:image.png)"
   ]
  },
  {
   "cell_type": "code",
   "execution_count": 40,
   "id": "legitimate-generic",
   "metadata": {},
   "outputs": [],
   "source": [
    "arr = [12, 11, 13, 5, 6]\n",
    "insertionSort(arr)"
   ]
  },
  {
   "cell_type": "code",
   "execution_count": 41,
   "id": "inappropriate-profession",
   "metadata": {},
   "outputs": [
    {
     "name": "stdout",
     "output_type": "stream",
     "text": [
      "[5, 6, 11, 12, 13]\n"
     ]
    }
   ],
   "source": [
    "print(arr)"
   ]
  },
  {
   "cell_type": "markdown",
   "id": "floppy-progressive",
   "metadata": {},
   "source": [
    "# Zadania"
   ]
  },
  {
   "cell_type": "markdown",
   "id": "crazy-arizona",
   "metadata": {},
   "source": [
    "## Rekursja mnożenie\n",
    "Napisz funkcję (rekurencyjną), która zwraca liczbę pomnożoną przez 3"
   ]
  },
  {
   "cell_type": "code",
   "execution_count": 42,
   "id": "covered-member",
   "metadata": {},
   "outputs": [],
   "source": [
    "def multiplication(n):\n",
    "    '''\n",
    "    Recursive version of 3 * n\n",
    "    '''\n",
    "    pass"
   ]
  },
  {
   "cell_type": "markdown",
   "id": "mature-framing",
   "metadata": {},
   "source": [
    "## Znalezienie mediany\n",
    "Napisze funkcję, która zwróci medianę z listy. (wykorzystaj sortowanie)"
   ]
  },
  {
   "cell_type": "code",
   "execution_count": 43,
   "id": "completed-default",
   "metadata": {},
   "outputs": [],
   "source": [
    "def find_median(list_):\n",
    "    '''\n",
    "    Find median in list and return it\n",
    "    '''\n",
    "    pass"
   ]
  },
  {
   "cell_type": "markdown",
   "id": "alternate-suspension",
   "metadata": {},
   "source": [
    "## Sortowanie przez wybieranie - modyfikacja\n",
    "Zmodyfikuj powyższy algorytm Insertion Sort tak, aby sortował listę w kolejności od największej do najmniejszej"
   ]
  },
  {
   "cell_type": "markdown",
   "id": "ranging-suggestion",
   "metadata": {},
   "source": [
    "## Rotacja listy\n",
    "Rotacją nazwiemy operację, która przesuwa wszystkie elementy listy w lewo o 1 indeks. Na przykład dla listy l = [1,2,3,4,5] i dwóch rotacji otrzymujemy listę [3,4,5,1,2]. Napisz funkcję, która przyjmuje listę L oraz argument d określający liczbę rotacji i dokonuje d rotacji dla dej listy."
   ]
  },
  {
   "cell_type": "code",
   "execution_count": 44,
   "id": "million-bronze",
   "metadata": {},
   "outputs": [],
   "source": [
    "def rotation(L, d):\n",
    "    '''\n",
    "    Rotate list L d-times\n",
    "    Args:\n",
    "        L - list\n",
    "        d - number of rotations\n",
    "    '''\n",
    "    pass"
   ]
  },
  {
   "cell_type": "markdown",
   "id": "opened-leader",
   "metadata": {},
   "source": [
    "## Suma kolejnych liczb naturalnych\n",
    "Napisz rekurencyjną funkcję, która zwraca sumę kolejnych liczb naturalnych"
   ]
  },
  {
   "cell_type": "code",
   "execution_count": 45,
   "id": "nutritional-laugh",
   "metadata": {},
   "outputs": [],
   "source": [
    "def sum_natural(n):\n",
    "    '''\n",
    "    Find sum 1 + 2 + ... + n by writing recursive function\n",
    "    '''\n",
    "    pass"
   ]
  },
  {
   "cell_type": "markdown",
   "id": "effective-heater",
   "metadata": {},
   "source": [
    "## Max Min (*)\n",
    "Dla zadanej listy L oraz liczby naturalnej k stwórz listę długości k, o elementach z L taką, że jej poziom niesprawiedliwości jest minimalny. Nazwijmy tą listę L', poziom jej niesprawiedliwości obliczamy jako max(L') - min(L'). Na przykład dla L = [1,4,7,2] oraz k=2 możemy stworzyć L' = [4, 7], której poziom niesprawiedliwości wynosi max(L') - min(L') = 3, jednak minimalny poziom niesprawiedliwości dostaniemy dla L' = [2, 1]. <br>\n",
    "Napisz funkcję, która przyjmuję listę L oraz liczbę k oraz zwraca minimalny poziom niesprawiedliwości"
   ]
  },
  {
   "cell_type": "code",
   "execution_count": 46,
   "id": "official-report",
   "metadata": {},
   "outputs": [],
   "source": [
    "def unfairness(L, k):\n",
    "    '''\n",
    "    Calculate the minimum possible unfairness\n",
    "    Args:\n",
    "        L - list of integers\n",
    "        k - the number of elements to select\n",
    "    '''\n",
    "    pass"
   ]
  },
  {
   "cell_type": "markdown",
   "id": "proof-bunch",
   "metadata": {},
   "source": [
    "Przykładowo dla L = [10\n",
    "100,\n",
    "300,\n",
    "200,\n",
    "1000,\n",
    "20,\n",
    "30]\n",
    "oraz k = 3 funkcja powinna zwrócić 20. Ponieważ wybierając 3 elementy z listy L, to znaczy 10, 20, 30 poziom niesprawiedliwości jest równy max(10,20,30) - min(10,20,30) = 30 - 10 = 20. <br>\n",
    "Dla L = [1\n",
    "2\n",
    "1\n",
    "2\n",
    "1]\n",
    "oraz k = 2 funkcja powinna zwrócić 0. Ponieważ wybierając 2 elementy z listy L (2, 2) lub (1,1) poziom jej niesprawiedliwości jest równy 0."
   ]
  }
 ],
 "metadata": {
  "kernelspec": {
   "display_name": "Python 3",
   "language": "python",
   "name": "python3"
  },
  "language_info": {
   "codemirror_mode": {
    "name": "ipython",
    "version": 3
   },
   "file_extension": ".py",
   "mimetype": "text/x-python",
   "name": "python",
   "nbconvert_exporter": "python",
   "pygments_lexer": "ipython3",
   "version": "3.8.5"
  }
 },
 "nbformat": 4,
 "nbformat_minor": 5
}
